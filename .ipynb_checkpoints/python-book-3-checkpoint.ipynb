{
 "cells": [
  {
   "cell_type": "markdown",
   "metadata": {},
   "source": [
    "# CH.3 - Built-in Data Structures, Functions, and Files"
   ]
  },
  {
   "cell_type": "code",
   "execution_count": 1,
   "metadata": {},
   "outputs": [],
   "source": [
    "import numpy as np\n",
    "import matplotlib.pyplot as plt\n",
    "import pandas as pd\n",
    "import seaborn as sns\n",
    "import statsmodels as sm"
   ]
  },
  {
   "cell_type": "markdown",
   "metadata": {},
   "source": [
    "## Data Structures and Sequences\n",
    "\n",
    "<br><br>\n",
    "### Tuple\n",
    "A tuple is a fixed-length, immutable sequence of Python objects. \n",
    "\n",
    "The easiest way to create one is with a comma-separated sequence of values.\n",
    "\n",
    "You can convert any sequence or iterator to a tuple by invoking `tuple()`\n",
    "\n",
    "Elements can be accessed with square brackets `[]` as with most other sequence types.\n",
    "\n",
    "If an object inside a tuple is mutable, such as a list, you can modify it in-place:"
   ]
  },
  {
   "cell_type": "code",
   "execution_count": 2,
   "metadata": {},
   "outputs": [
    {
     "data": {
      "text/plain": [
       "('foo', [1, 2, 3, 4], True)"
      ]
     },
     "execution_count": 2,
     "metadata": {},
     "output_type": "execute_result"
    }
   ],
   "source": [
    "tup = ('foo',[1,2,3], True)\n",
    "\n",
    "tup[1].append(4)\n",
    "\n",
    "tup"
   ]
  },
  {
   "cell_type": "markdown",
   "metadata": {},
   "source": [
    "You can concatenate tuples using the + operator to produce longer tuples:"
   ]
  },
  {
   "cell_type": "code",
   "execution_count": 3,
   "metadata": {},
   "outputs": [
    {
     "data": {
      "text/plain": [
       "(4, None, 'foo', 1, 2, 3, True, False, True)"
      ]
     },
     "execution_count": 3,
     "metadata": {},
     "output_type": "execute_result"
    }
   ],
   "source": [
    "(4, None, 'foo') + (1,2,3) + (True, False, True)"
   ]
  },
  {
   "cell_type": "code",
   "execution_count": 5,
   "metadata": {},
   "outputs": [
    {
     "data": {
      "text/plain": [
       "('foo', 'bar', 'foo', 'bar', 'foo', 'bar')"
      ]
     },
     "execution_count": 5,
     "metadata": {},
     "output_type": "execute_result"
    }
   ],
   "source": [
    "('foo','bar') * 3"
   ]
  },
  {
   "cell_type": "code",
   "execution_count": 8,
   "metadata": {},
   "outputs": [
    {
     "name": "stdout",
     "output_type": "stream",
     "text": [
      "1 2 3 4 5\n",
      "a:  2  b:  1\n"
     ]
    }
   ],
   "source": [
    "# Nested tuple\n",
    "tup = 1, 2, (3, 4, 5)\n",
    "\n",
    "a, b, (c, d, e) = tup\n",
    "\n",
    "print(a,b,c,d,e)\n",
    "\n",
    "# swap variable names\n",
    "a, b = b, a\n",
    "\n",
    "print('a: ', a, ' b: ', b)"
   ]
  },
  {
   "cell_type": "code",
   "execution_count": 10,
   "metadata": {},
   "outputs": [
    {
     "name": "stdout",
     "output_type": "stream",
     "text": [
      "a:1, b:2, c:3\n",
      "a:4, b:5, c:6\n",
      "a:7, b:8, c:9\n"
     ]
    }
   ],
   "source": [
    "# unpacking over a sequence of tuples\n",
    "for a, b, c in [(1, 2, 3), (4, 5, 6), (7, 8, 9)]:\n",
    "    print(f'a:{a}, b:{b}, c:{c}')"
   ]
  },
  {
   "cell_type": "code",
   "execution_count": 13,
   "metadata": {},
   "outputs": [
    {
     "name": "stdout",
     "output_type": "stream",
     "text": [
      "1 2 3\n",
      "[4, 5, 6]\n"
     ]
    }
   ],
   "source": [
    "# using * for the rest of the tuple\n",
    "tup = (range(1,7))\n",
    "\n",
    "a, b, c, *_ = tup\n",
    "\n",
    "print(a,b,c)\n",
    "print(_)"
   ]
  },
  {
   "cell_type": "markdown",
   "metadata": {},
   "source": [
    "<br><br>\n",
    "### Lists\n",
    "\n",
    "In contrast with tuples, lists are variable-length and their contents can be modified\n",
    "in-place.\n",
    "\n",
    "Lists and tuples are semantically similar (though tuples cannot be modified) and can\n",
    "be used interchangeably in many functions."
   ]
  },
  {
   "cell_type": "code",
   "execution_count": 21,
   "metadata": {},
   "outputs": [
    {
     "name": "stdout",
     "output_type": "stream",
     "text": [
      "append and insert : [1, 'a', 2, 3, 4]\n",
      "pop and remove:  [1, 2, 3]\n",
      "check if it's in the list:  True\n",
      "extend multiple elements:  [1, 2, 3, 'a', 'b', 'c']\n",
      "sorting:  [1, 3, 5, 6, 8, 9, 36, 37, 45, 56]\n"
     ]
    }
   ],
   "source": [
    "alist = [1, 2, 3]\n",
    "\n",
    "# append\n",
    "alist.append(4)\n",
    "\n",
    "# insert at position\n",
    "alist.insert(1, 'a')\n",
    "\n",
    "print('append and insert :', alist)\n",
    "\n",
    "# pop at index\n",
    "alist.pop(4)\n",
    "\n",
    "# remove at value\n",
    "alist.remove('a')\n",
    "\n",
    "print('pop and remove: ', alist)\n",
    "\n",
    "# bool statement\n",
    "condition = 'a' not in alist\n",
    "\n",
    "print('check if it\\'s in the list: ', condition)\n",
    "\n",
    "# extend by multiple elements\n",
    "alist.extend(['a','b','c'])\n",
    "\n",
    "print('extend multiple elements: ', alist)\n"
   ]
  },
  {
   "cell_type": "markdown",
   "metadata": {},
   "source": [
    "* Note that list concatenation by addition is a comparatively expensive operation since\n",
    "a new list must be created and the objects copied over. **Using extend to append elements to an existing list**, especially if you are building up a large list, is usually preferable.\n",
    "\n",
    "`sort` has a few options that will occasionally come in handy. One is the ability to pass\n",
    "a secondary sort key—that is, a function that produces a value to use to sort the\n",
    "objects."
   ]
  },
  {
   "cell_type": "code",
   "execution_count": 23,
   "metadata": {},
   "outputs": [
    {
     "name": "stdout",
     "output_type": "stream",
     "text": [
      "sorting:  [1, 3, 5, 6, 8, 9, 36, 37, 45, 56]\n",
      "sorting by length:  ['a', 'ab', 'fds', 'data', 'python', 'analysis', 'cookbooks']\n"
     ]
    }
   ],
   "source": [
    "# sorting\n",
    "blist = [1,56,5,36,8,3,6,37,9,45]\n",
    "blist.sort()\n",
    "\n",
    "print('sorting: ', blist)\n",
    "\n",
    "blist = ['a','fds','python', 'data', 'analysis', 'cookbooks','ab']\n",
    "blist.sort(key=len)\n",
    "\n",
    "print('sorting by length: ', blist)"
   ]
  },
  {
   "cell_type": "markdown",
   "metadata": {},
   "source": [
    "##### bisect\n",
    "The built-in bisect module implements **binary search and insertion into a sorted list**.\n",
    "\n",
    "`bisect.bisect` finds the location where an element should be inserted to keep it sorted, \n",
    "\n",
    "while `bisect.insort` actually inserts the element into that location"
   ]
  },
  {
   "cell_type": "code",
   "execution_count": 33,
   "metadata": {},
   "outputs": [
    {
     "name": "stdout",
     "output_type": "stream",
     "text": [
      "position:  5\n",
      "[10, 20, 30, 40, 50, 55, 60, 70, 80, 90]\n"
     ]
    }
   ],
   "source": [
    "import bisect\n",
    "\n",
    "c = [90, 30, 20, 40, 60, 70, 50, 80, 10]\n",
    "c.sort()\n",
    "\n",
    "print('position: ',bisect.bisect(c, 55))\n",
    "\n",
    "bisect.insort(c,55)\n",
    "\n",
    "print(c)"
   ]
  },
  {
   "attachments": {
    "image.png": {
     "image/png": "[encoded data removed]"
    }
   },
   "cell_type": "markdown",
   "metadata": {},
   "source": [
    "#### Slicing\n",
    "\n",
    "![image.png](attachment:image.png)"
   ]
  },
  {
   "cell_type": "code",
   "execution_count": 50,
   "metadata": {},
   "outputs": [
    {
     "name": "stdout",
     "output_type": "stream",
     "text": [
      "neg slicing to end:  [27, 28, 29, 30]\n",
      "neg slicing:  [25, 26, 27]\n",
      "slicing every other element:  [1, 5, 9, 13, 17, 21, 25, 29]\n",
      "neg slicing ev ot elem (reverse):  [30, 28, 26, 24, 22, 20, 18, 16, 14, 12, 10, 8, 6, 4, 2]\n"
     ]
    }
   ],
   "source": [
    "seq = list(range(1,31))\n",
    "\n",
    "print('neg slicing to end: ',seq[-4:])\n",
    "print('neg slicing: ',seq[-6:-3])\n",
    "print('slicing every other element: ',seq[::4])\n",
    "print('neg slicing ev ot elem (reverse): ',seq[::-2])"
   ]
  },
  {
   "cell_type": "markdown",
   "metadata": {},
   "source": [
    "### Built-in Sequence Functions"
   ]
  },
  {
   "cell_type": "code",
   "execution_count": 66,
   "metadata": {},
   "outputs": [
    {
     "name": "stdout",
     "output_type": "stream",
     "text": [
      "enumerate:  {1: 0, 2: 1, 3: 2, 4: 3, 5: 4, 6: 5, 7: 6, 8: 7, 9: 8, 10: 9, 11: 10, 12: 11, 13: 12, 14: 13, 15: 14, 16: 15, 17: 16, 18: 17, 19: 18, 20: 19}\n",
      "sorted:  [' ', 'a', 'a', 'a', 'a', 'd', 'i', 'l', 'n', 's', 's', 't', 'y']\n",
      "zip:  [('hi', 'foo'), ('hello', 'bar')]\n",
      "reversed:  [9, 8, 7, 6, 5, 4, 3, 2, 1, 0]\n"
     ]
    }
   ],
   "source": [
    "# enumerate\n",
    "mapping = {}\n",
    "for i, v in enumerate(range(1,21)):\n",
    "    mapping[v] = i\n",
    "\n",
    "print('enumerate: ', mapping)\n",
    "\n",
    "# sorted\n",
    "print('sorted: ',sorted('data analysis'))\n",
    "\n",
    "# zip\n",
    "seq1 = ['foo','bar','baz','ham','spam']\n",
    "seq2 = ['hi','hello']\n",
    "print('zip: ',list(zip(seq2,seq1)))\n",
    "\n",
    "# reversed\n",
    "print('reversed: ',list(reversed(range(10))))"
   ]
  },
  {
   "cell_type": "markdown",
   "metadata": {},
   "source": [
    "* zip can take an arbitrary number of sequences, and the number of elements it produces is **determined by the shortest sequence**\n",
    "\n",
    "Given a “zipped” sequence, zip can be applied in a clever way to **“unzip” the\n",
    "sequence**."
   ]
  },
  {
   "cell_type": "code",
   "execution_count": 64,
   "metadata": {},
   "outputs": [
    {
     "data": {
      "text/plain": [
       "(('java', 'scala'), ('python', 'R'))"
      ]
     },
     "execution_count": 64,
     "metadata": {},
     "output_type": "execute_result"
    }
   ],
   "source": [
    "langs = [('java','python'),('scala','R')]\n",
    "\n",
    "compiled, interpreted = zip(*langs)\n",
    "\n",
    "compiled, interpreted"
   ]
  },
  {
   "cell_type": "markdown",
   "metadata": {},
   "source": [
    "<br><br>\n",
    "### dict\n",
    "\n",
    "A more common name for it is *hash map* or *associative array*. It is a **flexibly sized collection of key-value pairs**, where key and value are Python objects."
   ]
  },
  {
   "cell_type": "code",
   "execution_count": 85,
   "metadata": {},
   "outputs": [
    {
     "name": "stdout",
     "output_type": "stream",
     "text": [
      "insert:  {'a': 1, 'b': 23, 'c': 34, 'd': 45}\n",
      "get b:  23\n",
      "checking c:  True\n",
      "deleting d : {'a': 1, 'b': 23, 'c': 34}\n",
      "popping c:  {'a': 1, 'b': 23}\n",
      "keys:  dict_keys(['a', 'b'])\n",
      "values:  dict_values([1, 23])\n",
      "update:  {'a': 1, 'b': 23, 'c': 'python', 'd': 'an integer'}\n"
     ]
    }
   ],
   "source": [
    "d1 = {'a': 1, 'b': 23, 'c': 34}\n",
    "\n",
    "# insert\n",
    "d1['d'] = 45\n",
    "\n",
    "print('insert: ',d1)\n",
    "print('get b: ', d1['b'])\n",
    "print('checking c: ', 'c' in d1)\n",
    "\n",
    "# deleting\n",
    "del d1['d']\n",
    "print('deleting d :', d1)\n",
    "\n",
    "# pop\n",
    "d1.pop('c')\n",
    "print('popping c: ', d1)\n",
    "\n",
    "# keys\n",
    "print('keys: ', d1.keys())\n",
    "\n",
    "# values\n",
    "print('values: ', d1.values())\n",
    "\n",
    "# update\n",
    "d1.update({'c': 'python', 'd': 'an integer'})\n",
    "print('update: ', d1)"
   ]
  },
  {
   "cell_type": "markdown",
   "metadata": {},
   "source": [
    "#### Creating dicts from sequences\n",
    "\n",
    "Since a dict is essentially a collection of 2-tuples, the `dict` function accepts a list of\n",
    "2-tuples:"
   ]
  },
  {
   "cell_type": "code",
   "execution_count": 1,
   "metadata": {},
   "outputs": [
    {
     "data": {
      "text/plain": [
       "{0: 4, 1: 3, 2: 2, 3: 1, 4: 0}"
      ]
     },
     "execution_count": 1,
     "metadata": {},
     "output_type": "execute_result"
    }
   ],
   "source": [
    "mapping = dict(zip(range(5), reversed(range(5))))\n",
    "\n",
    "mapping"
   ]
  },
  {
   "cell_type": "markdown",
   "metadata": {},
   "source": [
    "#### Default values"
   ]
  },
  {
   "cell_type": "code",
   "execution_count": 6,
   "metadata": {},
   "outputs": [
    {
     "name": "stdout",
     "output_type": "stream",
     "text": [
      "setdefault:\n",
      " {'a': ['apple', 'airplane'], 'b': ['banana', 'bow'], 'g': ['grapes', 'ground', 'gasket'], 'o': ['olives'], 'c': ['car']}\n",
      "defaultdict:\n",
      " defaultdict(<class 'list'>, {'a': ['apple', 'airplane'], 'b': ['banana', 'bow'], 'g': ['grapes', 'ground', 'gasket'], 'o': ['olives'], 'c': ['car']})\n"
     ]
    }
   ],
   "source": [
    "words = ['apple','banana','grapes','olives','airplane', 'bow','car','ground','gasket']\n",
    "\n",
    "by_letter = {}\n",
    "\n",
    "for word in words:\n",
    "    letter = word[0]\n",
    "    by_letter.setdefault(letter, []).append(word)\n",
    "\n",
    "print('setdefault:\\n',by_letter)\n",
    "\n",
    "from collections import defaultdict\n",
    "by_letter = defaultdict(list)\n",
    "\n",
    "for word in words:\n",
    "    by_letter[word[0]].append(word)\n",
    "    \n",
    "print('defaultdict:\\n',by_letter)"
   ]
  },
  {
   "cell_type": "markdown",
   "metadata": {},
   "source": [
    "#### Valid dict key types\n",
    "\n",
    "You can check whether an object is hashable (can be used as a key in a dict) with the `hash` function:"
   ]
  },
  {
   "cell_type": "code",
   "execution_count": 95,
   "metadata": {},
   "outputs": [
    {
     "name": "stdout",
     "output_type": "stream",
     "text": [
      "strings: 3104575548305882980\n",
      "tuples: 1097636502276347782\n",
      "ints and floats: 3 1152921504606846980\n"
     ]
    }
   ],
   "source": [
    "print('strings:',hash('a'))\n",
    "print('tuples:', hash((1, 2, (2, 3))))\n",
    "print('ints and floats:', hash(3), hash(4.5))\n",
    "\n",
    "# lists fail because are mutable\n",
    "# To use a list as a key, one option is to convert it to a tuple, which can be hashed as\n",
    "# long as its elements also can"
   ]
  },
  {
   "cell_type": "markdown",
   "metadata": {},
   "source": [
    "<br><br>\n",
    "### set\n",
    "\n",
    "A `set` is an unordered collection of unique elements. You can think of them like dicts,\n",
    "but keys only, no values. Like dicts, set elements generally must be immutable. To have list-like elements, you must convert it to a tuple."
   ]
  },
  {
   "cell_type": "code",
   "execution_count": 19,
   "metadata": {},
   "outputs": [
    {
     "name": "stdout",
     "output_type": "stream",
     "text": [
      "from constructor: {2, 3, 4, 76, 45}\n",
      "from literal: {2, 3, 4, 76, 45}\n"
     ]
    }
   ],
   "source": [
    "print('from constructor:',set([2,3,45,76,4,3]))\n",
    "print('from literal:',{2,3,45,76,4,3})"
   ]
  },
  {
   "cell_type": "markdown",
   "metadata": {},
   "source": [
    "#### set operations"
   ]
  },
  {
   "cell_type": "code",
   "execution_count": 96,
   "metadata": {},
   "outputs": [
    {
     "name": "stdout",
     "output_type": "stream",
     "text": [
      "union: {2, 3, 4, 5, 6, 12, 45, 24}\n",
      "intersection: {24, 3, 5}\n",
      "difference: {2, 45}\n",
      "symmetric difference: {2, 4, 6, 12, 45}\n"
     ]
    }
   ],
   "source": [
    "a = {3,2,45,24,2,5}\n",
    "b = {3,4,12,24,6,5}\n",
    "\n",
    "# union\n",
    "print('union:',a.union(b)) # a | b\n",
    "\n",
    "# intersection\n",
    "print('intersection:', a.intersection(b)) # a & b\n",
    "\n",
    "# difference\n",
    "print('difference:', a.difference(b)) # a - b\n",
    "\n",
    "# symmetric difference\n",
    "print('symmetric difference:', a.symmetric_difference(b)) # or a ^ b"
   ]
  },
  {
   "cell_type": "markdown",
   "metadata": {},
   "source": [
    "<br><br>\n",
    "\n",
    "### List, Set, and Dict Comprehensions\n",
    "\n",
    "`list_comp = [*expr* for *value* in collection if *condition*]`"
   ]
  },
  {
   "cell_type": "code",
   "execution_count": 24,
   "metadata": {},
   "outputs": [
    {
     "data": {
      "text/plain": [
       "['BAT', 'CAR', 'DOVE', 'PYTHON']"
      ]
     },
     "execution_count": 24,
     "metadata": {},
     "output_type": "execute_result"
    }
   ],
   "source": [
    "strings = ['a', 'as', 'bat', 'car', 'dove', 'python']\n",
    "\n",
    "[x.upper() for x in strings if len(x) > 2]"
   ]
  },
  {
   "cell_type": "markdown",
   "metadata": {},
   "source": [
    "`dict_comp = {*key-expr*: *value-expr* for value in collection if *condition*}`"
   ]
  },
  {
   "cell_type": "code",
   "execution_count": 25,
   "metadata": {},
   "outputs": [
    {
     "data": {
      "text/plain": [
       "{'a': 0, 'as': 1, 'bat': 2, 'car': 3, 'dove': 4, 'python': 5}"
      ]
     },
     "execution_count": 25,
     "metadata": {},
     "output_type": "execute_result"
    }
   ],
   "source": [
    "{val: index for index, val in enumerate(strings)}"
   ]
  },
  {
   "cell_type": "markdown",
   "metadata": {},
   "source": [
    "`set_comp = {*expr* for *value* in collection if *condition*}`"
   ]
  },
  {
   "cell_type": "code",
   "execution_count": 26,
   "metadata": {},
   "outputs": [
    {
     "data": {
      "text/plain": [
       "{1, 2, 3, 4, 6}"
      ]
     },
     "execution_count": 26,
     "metadata": {},
     "output_type": "execute_result"
    }
   ],
   "source": [
    "unique_lengths = {len(x) for x in strings}\n",
    "\n",
    "unique_lengths"
   ]
  },
  {
   "cell_type": "markdown",
   "metadata": {},
   "source": [
    "#### Nested list comprehensions"
   ]
  },
  {
   "cell_type": "code",
   "execution_count": 28,
   "metadata": {},
   "outputs": [
    {
     "name": "stdout",
     "output_type": "stream",
     "text": [
      "['Steven']\n",
      "[1, 2, 3, 4, 5, 6, 7, 8, 9]\n"
     ]
    }
   ],
   "source": [
    "all_data = [['John', 'Emily', 'Michael', 'Mary', 'Steven'],\n",
    "            ['Maria', 'Juan', 'Javier', 'Natalia', 'Pilar']]\n",
    "\n",
    "# names with two or more 'e's\n",
    "result = [name for names in all_data for name in names if name.count('e') >= 2]\n",
    "print(result)\n",
    "\n",
    "some_tuples = [(1, 2, 3), (4, 5, 6), (7, 8, 9)]\n",
    "\n",
    "unrolled = [tup for atuple in some_tuples for tup in atuple]\n",
    "print(unrolled)"
   ]
  },
  {
   "cell_type": "markdown",
   "metadata": {},
   "source": [
    "<br><br>\n",
    "\n",
    "## Functions\n",
    "\n",
    "The main restriction on function arguments is that the **keyword arguments must follow the positional arguments** (if any)."
   ]
  },
  {
   "cell_type": "code",
   "execution_count": 32,
   "metadata": {},
   "outputs": [
    {
     "data": {
      "text/plain": [
       "['Alabama',\n",
       " 'Georgia',\n",
       " 'Georgia',\n",
       " 'Georgia',\n",
       " 'Florida',\n",
       " 'South  Carolina',\n",
       " 'West Virginia']"
      ]
     },
     "execution_count": 32,
     "metadata": {},
     "output_type": "execute_result"
    }
   ],
   "source": [
    "import re\n",
    "\n",
    "states = ['Alabama ', 'Georgia!', 'Georgia', 'georgia', 'FlOrIda',\n",
    "          'south  carolina##', 'West virginia?']\n",
    "\n",
    "def remove_punctuation(value):\n",
    "    return re.sub('[!#?]', '', value)\n",
    "\n",
    "clean_ops = [str.strip, remove_punctuation, str.title]\n",
    "\n",
    "# Using functions as arguments to other functions\n",
    "def clean_strings(strings, ops):\n",
    "    result = []\n",
    "    for value in strings:\n",
    "        for function in ops:\n",
    "            value = function(value)\n",
    "        result.append(value)\n",
    "    return result\n",
    "\n",
    "clean_strings(states, clean_ops)"
   ]
  },
  {
   "cell_type": "code",
   "execution_count": 3,
   "metadata": {},
   "outputs": [
    {
     "data": {
      "text/plain": [
       "[9, 16, 36, 4, 1]"
      ]
     },
     "execution_count": 3,
     "metadata": {},
     "output_type": "execute_result"
    }
   ],
   "source": [
    "# Using functions as arguments to other functions\n",
    "def apply_to_list(some_list, f):\n",
    "    return [f(x) for x in some_list]\n",
    "\n",
    "ints = [3, 4, 6, 2, 1]\n",
    "apply_to_list(ints, lambda x: x ** 2)"
   ]
  },
  {
   "cell_type": "markdown",
   "metadata": {},
   "source": [
    "### Currying\n",
    "\n",
    "Means deriving new functions from existing ones by **partial argument application**."
   ]
  },
  {
   "cell_type": "code",
   "execution_count": 4,
   "metadata": {},
   "outputs": [
    {
     "data": {
      "text/plain": [
       "6"
      ]
     },
     "execution_count": 4,
     "metadata": {},
     "output_type": "execute_result"
    }
   ],
   "source": [
    "def add_numbers(x,y):\n",
    "    return x + y\n",
    "\n",
    "add_five = lambda y: add_numbers(5,y)\n",
    "\n",
    "add_five(1)"
   ]
  },
  {
   "cell_type": "markdown",
   "metadata": {},
   "source": [
    "### Generators\n",
    "\n",
    "#### Iterators"
   ]
  },
  {
   "cell_type": "code",
   "execution_count": 6,
   "metadata": {},
   "outputs": [
    {
     "name": "stdout",
     "output_type": "stream",
     "text": [
      "a\n",
      "b\n",
      "c\n",
      "<dict_keyiterator object at 0x7f5d001e5cb0>\n"
     ]
    }
   ],
   "source": [
    "some_dict = {'a': 1,'b': 1,'c': 1}\n",
    "\n",
    "for key in some_dict:\n",
    "    print(key)\n",
    "\n",
    "# When you write for key in some_dict , the Python interpreter first attempts to \n",
    "# create an iterator out of some_dict :\n",
    "dict_iterator = iter(some_dict)\n",
    "\n",
    "print(dict_iterator)"
   ]
  },
  {
   "cell_type": "markdown",
   "metadata": {},
   "source": [
    "An iterator is any object that will yield objects to the Python interpreter when used in\n",
    "a context like a for loop.This includes built-in methods such as min , max , and sum ,\n",
    "and type constructors like list and tuple.\n",
    "\n",
    "A **generator** is a concise way to construct a new iterable object. Whereas normal func‐\n",
    "tions execute and return a single result at a time, **generators return a sequence of\n",
    "multiple results lazily**, pausing after each one until the next one is requested. To create\n",
    "a generator, use the yield keyword instead of return in a function:"
   ]
  },
  {
   "cell_type": "code",
   "execution_count": 7,
   "metadata": {},
   "outputs": [],
   "source": [
    "def squares(n = 10):\n",
    "    print('Generating squares from 1 to {0}'.format(n ** 2))\n",
    "    for i in range(1, n + 1):\n",
    "        yield i ** 2"
   ]
  },
  {
   "cell_type": "markdown",
   "metadata": {},
   "source": [
    "When you actually call the generator, no code is immediately executed:"
   ]
  },
  {
   "cell_type": "code",
   "execution_count": 8,
   "metadata": {},
   "outputs": [
    {
     "data": {
      "text/plain": [
       "<generator object squares at 0x7f5ce9c63450>"
      ]
     },
     "execution_count": 8,
     "metadata": {},
     "output_type": "execute_result"
    }
   ],
   "source": [
    "gen = squares()\n",
    "\n",
    "gen"
   ]
  },
  {
   "cell_type": "markdown",
   "metadata": {},
   "source": [
    "It is not until you request elements from the generator that it begins executing its\n",
    "code:"
   ]
  },
  {
   "cell_type": "code",
   "execution_count": 9,
   "metadata": {},
   "outputs": [
    {
     "name": "stdout",
     "output_type": "stream",
     "text": [
      "Generating squares from 1 to 100\n",
      "1 4 9 16 25 36 49 64 81 100 "
     ]
    }
   ],
   "source": [
    "for x in gen:\n",
    "    print(x, end=' ')"
   ]
  },
  {
   "cell_type": "markdown",
   "metadata": {},
   "source": [
    "### Generator Expressions\n",
    "\n",
    "Another even more concise way to make a generator is by using a **generator expression**. This is a generator analogue to list, dict, and set comprehensions; to create one, enclose what would otherwise be a list comprehension within parentheses instead of brackets:"
   ]
  },
  {
   "cell_type": "code",
   "execution_count": 10,
   "metadata": {},
   "outputs": [
    {
     "data": {
      "text/plain": [
       "<generator object <genexpr> at 0x7f5d00aa13d0>"
      ]
     },
     "execution_count": 10,
     "metadata": {},
     "output_type": "execute_result"
    }
   ],
   "source": [
    "gen = (x ** 2 for x in range(100))\n",
    "\n",
    "gen"
   ]
  },
  {
   "cell_type": "markdown",
   "metadata": {},
   "source": [
    "Generator expressions can be used instead of list comprehensions as function argu‐\n",
    "ments in many cases:"
   ]
  },
  {
   "cell_type": "code",
   "execution_count": 12,
   "metadata": {},
   "outputs": [
    {
     "name": "stdout",
     "output_type": "stream",
     "text": [
      "328350\n",
      "{0: 0, 1: 1, 2: 4, 3: 9, 4: 16}\n"
     ]
    }
   ],
   "source": [
    "print(sum(x ** 2 for x in range(100)))\n",
    "print(dict((i, i ** 2) for i in range(5)))"
   ]
  },
  {
   "cell_type": "markdown",
   "metadata": {},
   "source": [
    "### itertools module\n",
    "\n",
    "The standard library itertools module has a collection of generators for many common data algorithms. For example, groupby takes any sequence and a function,\n",
    "grouping consecutive elements in the sequence by return value of the function."
   ]
  },
  {
   "cell_type": "code",
   "execution_count": 14,
   "metadata": {},
   "outputs": [
    {
     "name": "stdout",
     "output_type": "stream",
     "text": [
      "A ['Alan', 'Adam']\n",
      "W ['Wes', 'Will']\n",
      "A ['Albert']\n",
      "S ['Steven']\n"
     ]
    }
   ],
   "source": [
    "import itertools\n",
    "\n",
    "first_letter = lambda x: x[0]\n",
    "\n",
    "names = ['Alan', 'Adam', 'Wes', 'Will', 'Albert', 'Steven'] \n",
    "\n",
    "for letter, names in itertools.groupby(names, first_letter):\n",
    "    print(letter, list(names))"
   ]
  },
  {
   "cell_type": "markdown",
   "metadata": {},
   "source": [
    "<br><br>\n",
    "\n",
    "## Errors and Exception Handling"
   ]
  },
  {
   "cell_type": "code",
   "execution_count": 15,
   "metadata": {},
   "outputs": [
    {
     "name": "stdout",
     "output_type": "stream",
     "text": [
      "1.2343\n"
     ]
    },
    {
     "ename": "ValueError",
     "evalue": "could not convert string to float: 'something'",
     "output_type": "error",
     "traceback": [
      "\u001b[0;31m\u001b[0m",
      "\u001b[0;31mValueError\u001b[0mTraceback (most recent call last)",
      "\u001b[0;32m<ipython-input-15-f6c279efd044>\u001b[0m in \u001b[0;36m<module>\u001b[0;34m\u001b[0m\n\u001b[1;32m      1\u001b[0m \u001b[0mprint\u001b[0m\u001b[0;34m(\u001b[0m\u001b[0mfloat\u001b[0m\u001b[0;34m(\u001b[0m\u001b[0;34m'1.2343'\u001b[0m\u001b[0;34m)\u001b[0m\u001b[0;34m)\u001b[0m\u001b[0;34m\u001b[0m\u001b[0;34m\u001b[0m\u001b[0m\n\u001b[1;32m      2\u001b[0m \u001b[0;34m\u001b[0m\u001b[0m\n\u001b[0;32m----> 3\u001b[0;31m \u001b[0mprint\u001b[0m\u001b[0;34m(\u001b[0m\u001b[0mfloat\u001b[0m\u001b[0;34m(\u001b[0m\u001b[0;34m'something'\u001b[0m\u001b[0;34m)\u001b[0m\u001b[0;34m)\u001b[0m\u001b[0;34m\u001b[0m\u001b[0;34m\u001b[0m\u001b[0m\n\u001b[0m",
      "\u001b[0;31mValueError\u001b[0m: could not convert string to float: 'something'"
     ]
    }
   ],
   "source": [
    "print(float('1.2343'))\n",
    "\n",
    "print(float('something'))"
   ]
  },
  {
   "cell_type": "code",
   "execution_count": 17,
   "metadata": {},
   "outputs": [
    {
     "data": {
      "text/plain": [
       "'something'"
      ]
     },
     "execution_count": 17,
     "metadata": {},
     "output_type": "execute_result"
    }
   ],
   "source": [
    "def attempt_float(x):\n",
    "    try:\n",
    "        return float(x)\n",
    "    except:\n",
    "        return x\n",
    "\n",
    "attempt_float('something')"
   ]
  },
  {
   "cell_type": "markdown",
   "metadata": {},
   "source": [
    "You might want to only suppress **ValueError**, since a **TypeError** (the input was not a\n",
    "string or numeric value) might indicate a legitimate bug in your program. To do that,\n",
    "write the exception type after except:"
   ]
  },
  {
   "cell_type": "code",
   "execution_count": 23,
   "metadata": {},
   "outputs": [
    {
     "name": "stdout",
     "output_type": "stream",
     "text": [
      "Exception reporting mode: Verbose\n"
     ]
    },
    {
     "ename": "TypeError",
     "evalue": "float() argument must be a string or a number, not 'tuple'",
     "output_type": "error",
     "traceback": [
      "\u001b[0;31m\u001b[0m",
      "\u001b[0;31mTypeError\u001b[0mTraceback (most recent call last)",
      "\u001b[0;32m<ipython-input-23-7c2bfece2c2a>\u001b[0m in \u001b[0;36m<module>\u001b[0;34m\u001b[0m\n\u001b[1;32m      7\u001b[0m         \u001b[0;32mreturn\u001b[0m \u001b[0mx\u001b[0m\u001b[0;34m\u001b[0m\u001b[0;34m\u001b[0m\u001b[0m\n\u001b[1;32m      8\u001b[0m \u001b[0;34m\u001b[0m\u001b[0m\n\u001b[0;32m----> 9\u001b[0;31m \u001b[0mattempt_float\u001b[0m\u001b[0;34m(\u001b[0m\u001b[0;34m(\u001b[0m\u001b[0;36m1\u001b[0m\u001b[0;34m,\u001b[0m\u001b[0;36m2\u001b[0m\u001b[0;34m)\u001b[0m\u001b[0;34m)\u001b[0m\u001b[0;34m\u001b[0m\u001b[0;34m\u001b[0m\u001b[0m\n\u001b[0m        \u001b[0;36mglobal\u001b[0m \u001b[0;36mattempt_float\u001b[0m \u001b[0;34m= <function attempt_float at 0x7f5cea7b6c20>\u001b[0m\n",
      "\u001b[0;32m<ipython-input-23-7c2bfece2c2a>\u001b[0m in \u001b[0;36mattempt_float\u001b[0;34m(x=(1, 2))\u001b[0m\n\u001b[1;32m      3\u001b[0m \u001b[0;32mdef\u001b[0m \u001b[0mattempt_float\u001b[0m\u001b[0;34m(\u001b[0m\u001b[0mx\u001b[0m\u001b[0;34m)\u001b[0m\u001b[0;34m:\u001b[0m\u001b[0;34m\u001b[0m\u001b[0;34m\u001b[0m\u001b[0m\n\u001b[1;32m      4\u001b[0m     \u001b[0;32mtry\u001b[0m\u001b[0;34m:\u001b[0m\u001b[0;34m\u001b[0m\u001b[0;34m\u001b[0m\u001b[0m\n\u001b[0;32m----> 5\u001b[0;31m         \u001b[0;32mreturn\u001b[0m \u001b[0mfloat\u001b[0m\u001b[0;34m(\u001b[0m\u001b[0mx\u001b[0m\u001b[0;34m)\u001b[0m\u001b[0;34m\u001b[0m\u001b[0;34m\u001b[0m\u001b[0m\n\u001b[0m        \u001b[0;36mglobal\u001b[0m \u001b[0;36mfloat\u001b[0m \u001b[0;34m= \u001b[0;36mundefined\u001b[0m\u001b[0m\u001b[0;34m\n        \u001b[0m\u001b[0;36mx\u001b[0m \u001b[0;34m= (1, 2)\u001b[0m\n\u001b[1;32m      6\u001b[0m     \u001b[0;32mexcept\u001b[0m \u001b[0mValueError\u001b[0m\u001b[0;34m:\u001b[0m\u001b[0;34m\u001b[0m\u001b[0;34m\u001b[0m\u001b[0m\n\u001b[1;32m      7\u001b[0m         \u001b[0;32mreturn\u001b[0m \u001b[0mx\u001b[0m\u001b[0;34m\u001b[0m\u001b[0;34m\u001b[0m\u001b[0m\n",
      "\u001b[0;31mTypeError\u001b[0m: float() argument must be a string or a number, not 'tuple'"
     ]
    }
   ],
   "source": [
    "%xmode Verbose \n",
    "\n",
    "def attempt_float(x):\n",
    "    try:\n",
    "        return float(x)\n",
    "    except ValueError:\n",
    "        return x\n",
    "\n",
    "attempt_float((1,2))"
   ]
  },
  {
   "cell_type": "code",
   "execution_count": 19,
   "metadata": {},
   "outputs": [
    {
     "data": {
      "text/plain": [
       "'something'"
      ]
     },
     "execution_count": 19,
     "metadata": {},
     "output_type": "execute_result"
    }
   ],
   "source": [
    "def attempt_float(x):\n",
    "    try:\n",
    "        return float(x)\n",
    "    except (ValueError, TypeError):\n",
    "        return x\n",
    "    \n",
    "attempt_float('something')"
   ]
  },
  {
   "cell_type": "markdown",
   "metadata": {},
   "source": [
    "In some cases, you may not want to suppress an exception, but you want some code\n",
    "to be executed regardless of whether the code in the try block succeeds or not. To do\n",
    "this, use **finally** :\n",
    "\n",
    "```python\n",
    "f = open(path, 'w')\n",
    "\n",
    "try:\n",
    "    write_to_file(f)\n",
    "except:\n",
    "    print('Write failed.')\n",
    "else:\n",
    "    print('Succeeded')\n",
    "finally:\n",
    "    f.close()\n",
    "``` "
   ]
  },
  {
   "cell_type": "markdown",
   "metadata": {},
   "source": [
    "<br><br>\n",
    "\n",
    "## Files and the Operating System\n",
    "\n",
    "* By default, the file is opened in read-only mode 'r' ."
   ]
  },
  {
   "cell_type": "code",
   "execution_count": 32,
   "metadata": {},
   "outputs": [
    {
     "name": "stdout",
     "output_type": "stream",
     "text": [
      "['Sueña el rico en su riqueza,\\n', 'que más cuidados le ofrece;\\n', '\\n', 'sueña el pobre que padece\\n', 'su miseria y su pobreza;\\n', '\\n', 'sueña el que a medrar empieza,\\n', 'sueña el que afana y pretende,\\n', 'sueña el que agravia y ofende,\\n', '\\n', 'y en el mundo, en conclusión,\\n', 'todos sueñan lo que son,\\n', 'aunque ninguno lo entiende.\\n', '\\n']\n"
     ]
    }
   ],
   "source": [
    "path = 'examples/segismundo.txt'\n",
    "\n",
    "f = open(path)\n",
    "\n",
    "lines = []\n",
    "\n",
    "for line in f:\n",
    "    lines.append(line)\n",
    "\n",
    "print (lines)\n",
    "\n",
    "f.close()"
   ]
  },
  {
   "cell_type": "code",
   "execution_count": 33,
   "metadata": {},
   "outputs": [
    {
     "data": {
      "text/plain": [
       "['Sueña el rico en su riqueza,',\n",
       " 'que más cuidados le ofrece;',\n",
       " '',\n",
       " 'sueña el pobre que padece',\n",
       " 'su miseria y su pobreza;',\n",
       " '',\n",
       " 'sueña el que a medrar empieza,',\n",
       " 'sueña el que afana y pretende,',\n",
       " 'sueña el que agravia y ofende,',\n",
       " '',\n",
       " 'y en el mundo, en conclusión,',\n",
       " 'todos sueñan lo que son,',\n",
       " 'aunque ninguno lo entiende.',\n",
       " '']"
      ]
     },
     "execution_count": 33,
     "metadata": {},
     "output_type": "execute_result"
    }
   ],
   "source": [
    "lines = [x.rstrip() for x in open(path)]\n",
    "\n",
    "lines"
   ]
  },
  {
   "cell_type": "code",
   "execution_count": 49,
   "metadata": {},
   "outputs": [
    {
     "data": {
      "text/plain": [
       "['Sueña el rico en su riqueza',\n",
       " 'que más cuidados le ofrece',\n",
       " '',\n",
       " 'sueña el pobre que padece',\n",
       " 'su miseria y su pobreza',\n",
       " '',\n",
       " 'sueña el que a medrar empieza',\n",
       " 'sueña el que afana y pretende',\n",
       " 'sueña el que agravia y ofende',\n",
       " '',\n",
       " 'y en el mundo, en conclusión',\n",
       " 'todos sueñan lo que son',\n",
       " 'aunque ninguno lo entiende.',\n",
       " '']"
      ]
     },
     "execution_count": 49,
     "metadata": {},
     "output_type": "execute_result"
    }
   ],
   "source": [
    "with open(path) as f:\n",
    "    lines = [x.rstrip('\\n,;') for x in f]\n",
    "    \n",
    "lines"
   ]
  },
  {
   "cell_type": "code",
   "execution_count": 97,
   "metadata": {},
   "outputs": [
    {
     "name": "stdout",
     "output_type": "stream",
     "text": [
      "read:  Sueña el r\n",
      "tell:  11\n",
      "seek:  10 rico en su\n",
      "binary mode:  b'Sue\\xc3\\xb1a el '\n"
     ]
    }
   ],
   "source": [
    "f = open(path)\n",
    "\n",
    "# read\n",
    "print('read: ', f.read(10))\n",
    "\n",
    "# tell position\n",
    "print('tell: ',f.tell())\n",
    "\n",
    "# seek changes the file position\n",
    "print('seek: ', f.seek(10), f.read(10))\n",
    "\n",
    "# Binary mode\n",
    "f2 = open(path, 'rb')\n",
    "print('binary mode: ',f2.read(10))\n",
    "\n",
    "f.close()\n",
    "f2.close()"
   ]
  },
  {
   "cell_type": "code",
   "execution_count": 67,
   "metadata": {},
   "outputs": [
    {
     "name": "stdout",
     "output_type": "stream",
     "text": [
      "['Sueña el rico en su riqueza,\\n']\n"
     ]
    }
   ],
   "source": [
    "with open(path) as f:\n",
    "    print(f.readlines(10))"
   ]
  },
  {
   "cell_type": "markdown",
   "metadata": {},
   "source": [
    "<br><br>\n",
    "\n",
    "# Aula python\n",
    "\n",
    "## Classes\n",
    "\n",
    "* Todas as classes descendem da classe object em algum nível\n",
    "* Independente do nome da classe, o nome do construtor sempre será __init__"
   ]
  },
  {
   "cell_type": "code",
   "execution_count": 69,
   "metadata": {},
   "outputs": [
    {
     "name": "stdout",
     "output_type": "stream",
     "text": [
      "toyota corolla\n"
     ]
    }
   ],
   "source": [
    "class Carro(object):\n",
    "    def __init__(self, fabricante, modelo):\n",
    "        self.fabricante = fabricante\n",
    "        self.modelo = modelo\n",
    "\n",
    "carro1 = Carro('toyota','corolla') # instância\n",
    "\n",
    "print(carro1.fabricante, carro1.modelo)"
   ]
  },
  {
   "cell_type": "markdown",
   "metadata": {},
   "source": [
    "## Getters e setters\n",
    "* Métodos getter são decorados com @property\n",
    "    * são acessados como se fossem atributos\n",
    "* Métodos setter são decorados com @.setter\n",
    "    * são atribuídos como se fossem atributos"
   ]
  },
  {
   "cell_type": "code",
   "execution_count": 74,
   "metadata": {},
   "outputs": [],
   "source": [
    "class MyClass(object):\n",
    "    def __init__(self, var):\n",
    "        self._var = var\n",
    "        \n",
    "    @property\n",
    "    def var(self):\n",
    "        return self._var\n",
    "    \n",
    "    @var.setter\n",
    "    def var(self, value):\n",
    "        if value > 0:\n",
    "            self._var = value\n",
    "        else:\n",
    "            print('Valor inválido.')\n",
    "    \n",
    "    @var.deleter\n",
    "    def var(self):\n",
    "        print('Deletando var!')\n",
    "        del self._var"
   ]
  },
  {
   "cell_type": "code",
   "execution_count": 71,
   "metadata": {},
   "outputs": [
    {
     "name": "stdout",
     "output_type": "stream",
     "text": [
      "1\n"
     ]
    }
   ],
   "source": [
    "instance = MyClass(1)\n",
    "print(instance.var)"
   ]
  },
  {
   "cell_type": "code",
   "execution_count": 72,
   "metadata": {},
   "outputs": [
    {
     "name": "stdout",
     "output_type": "stream",
     "text": [
      "5\n"
     ]
    }
   ],
   "source": [
    "instance.var =  5\n",
    "print(instance.var)"
   ]
  },
  {
   "cell_type": "code",
   "execution_count": 75,
   "metadata": {},
   "outputs": [
    {
     "name": "stdout",
     "output_type": "stream",
     "text": [
      "Deletando var!\n"
     ]
    }
   ],
   "source": [
    "instance = MyClass(5)\n",
    "del instance.var"
   ]
  },
  {
   "cell_type": "markdown",
   "metadata": {},
   "source": [
    "## Métodos e atributos privados\n",
    "\n",
    "* Um método é dito **final** quando não pode ser sobrescrito por nenhuma classe descendente\n",
    "* O underline _ (**um para atributos, dois para métodos**) notifica outros programadores que aquele método/atributo **não deve ser acessado por eles**, e que se o fizerem, resultará em um comportamento inesperado"
   ]
  },
  {
   "cell_type": "code",
   "execution_count": 86,
   "metadata": {},
   "outputs": [
    {
     "name": "stdout",
     "output_type": "stream",
     "text": [
      "queimando combustível com o motor truboprop\n",
      "truboprop\n"
     ]
    }
   ],
   "source": [
    "class Aviao(object):\n",
    "    def __init__(self, motor):\n",
    "        self._motor = motor # atributo que não deve ser acessado fora do escopo de Aviao\n",
    "    \n",
    "    def voa(self):\n",
    "        self.__queima_combustivel__()\n",
    "    \n",
    "    def __queima_combustivel__(self): # metodo que não deve ser acessado fora do escopo de Aviao\n",
    "        print('queimando combustível com o motor {}'.format(self._motor))\n",
    "    \n",
    "    @property # metodologia correta para acessar um atributo privado\n",
    "    def motor(self):\n",
    "        return self._motor\n",
    "\n",
    "atr_72 = Aviao('truboprop')\n",
    "atr_72.voa()\n",
    "print(atr_72.motor)\n",
    "\n",
    "# note que uma propriedade é tratada como um atributo na chamada,\n",
    "# mas implementada como uma função na classe"
   ]
  },
  {
   "cell_type": "markdown",
   "metadata": {},
   "source": [
    "### Métodos Estáticos\n",
    "\n",
    "* Métodos estáticos não interagem com nenhum atributo da instância"
   ]
  },
  {
   "cell_type": "code",
   "execution_count": 90,
   "metadata": {},
   "outputs": [
    {
     "name": "stdout",
     "output_type": "stream",
     "text": [
      "Método da classe:\t hello world!\n",
      "Método da instância:\t hello world!\n"
     ]
    }
   ],
   "source": [
    "class MyClass(object):\n",
    "    @staticmethod\n",
    "    def my_static_method():\n",
    "        return 'hello world!'\n",
    "    \n",
    "classe1 = MyClass()\n",
    "\n",
    "print('Método da classe:\\t', MyClass.my_static_method())\n",
    "print('Método da instância:\\t', classe1.my_static_method())"
   ]
  },
  {
   "cell_type": "markdown",
   "metadata": {},
   "source": [
    "### Métodos de classe\n",
    "\n",
    "* Métodos de classe são voltados a instanciar objetos a partir de outros métodos que não os construtores\n",
    "* Em Python, não existe sobrecarga de métodos a nível da mesma classe (apenas classes descendentes podem sobrescrever métodos das classes pai)\n",
    "    * também pode ser chamado de polimorfismo\n",
    "* Portanto, métodos de classe são importantes para tratar diversos tipos de dados"
   ]
  },
  {
   "cell_type": "code",
   "execution_count": 98,
   "metadata": {},
   "outputs": [],
   "source": [
    "class Date(object):\n",
    "    day = 1\n",
    "    month = 1\n",
    "    year = 1970\n",
    "    def __init__(self, day, month,year):\n",
    "        self.day, self.month, self.year = (day, month, year)\n",
    "        \n",
    "    @classmethod\n",
    "    def from_string(cls, string): # o primeiro parâmetro de classe é a própria classe\n",
    "        some_list = string.split('-')\n",
    "        date = cls(some_list[0], some_list[1], some_list[2])\n",
    "        return date"
   ]
  },
  {
   "cell_type": "code",
   "execution_count": 101,
   "metadata": {},
   "outputs": [
    {
     "name": "stdout",
     "output_type": "stream",
     "text": [
      "usando constructor:\t\t 1973\n",
      "usando método de classe:\t 1973\n"
     ]
    }
   ],
   "source": [
    "date1 = Date(2, 3, 1973)\n",
    "date2 = Date.from_string('2-3-1973')\n",
    "print('usando constructor:\\t\\t', date1.year)\n",
    "print('usando método de classe:\\t', date2.year)"
   ]
  },
  {
   "cell_type": "markdown",
   "metadata": {},
   "source": [
    "* Para que atributos de uma classe possuam valores default, declare-os no corpo da classe:"
   ]
  },
  {
   "cell_type": "code",
   "execution_count": 102,
   "metadata": {},
   "outputs": [
    {
     "name": "stdout",
     "output_type": "stream",
     "text": [
      "partenon\n",
      "sem nome\n",
      "ainda sem nome\n"
     ]
    }
   ],
   "source": [
    "class Bairro(object):\n",
    "    nome = 'sem nome'\n",
    "    def __init__(self, nome):\n",
    "        self.nome = nome # sobreescreve o atributo nome desta instância, mas não da classe\n",
    "    \n",
    "bairro1 = Bairro('partenon')\n",
    "print(bairro1.nome)\n",
    "print(Bairro.nome)\n",
    "\n",
    "Bairro.nome = 'ainda sem nome' # sobrescreve o valor do atributo \"nome\" da classe; válido apenas durante a execução do código\n",
    "print(Bairro.nome)"
   ]
  },
  {
   "cell_type": "markdown",
   "metadata": {},
   "source": [
    "## Herança Múltipla"
   ]
  },
  {
   "cell_type": "code",
   "execution_count": 103,
   "metadata": {},
   "outputs": [],
   "source": [
    "class Fulano(object):\n",
    "    def fala(self):\n",
    "        print('Sou fulano!')\n",
    "        \n",
    "class Ciclano(Fulano):\n",
    "    def fala(self):\n",
    "        print('Sou ciclano!')\n",
    "        \n",
    "class Sicrano(Fulano):\n",
    "    def fala(self):\n",
    "        print('Sou sicrano!')\n",
    "        \n",
    "class Beltrano(Ciclano, Sicrano): # herança múltipla\n",
    "    pass"
   ]
  },
  {
   "cell_type": "markdown",
   "metadata": {},
   "source": [
    "## Sobrecarga de Operadores\n",
    "\n",
    "* \\+ \\- \\/ \\*\n",
    "* < > >= <= == !="
   ]
  },
  {
   "cell_type": "code",
   "execution_count": 105,
   "metadata": {},
   "outputs": [],
   "source": [
    "class Vector(object):\n",
    "    coords = None\n",
    "    def __init__(self, coords):\n",
    "        self.coords = coords\n",
    "    def __add__(self, other): # operador soma\n",
    "        return [x[0] + x[1] for x in zip(self.coords, other.coords)]\n",
    "    def __str__(self): # operador print\n",
    "        return '[' + ', '.join([str(x) for x in self.coords]) + ']'"
   ]
  },
  {
   "cell_type": "code",
   "execution_count": 106,
   "metadata": {},
   "outputs": [
    {
     "name": "stdout",
     "output_type": "stream",
     "text": [
      "[2, 3, 5]\n",
      "[4, 5, 6]\n",
      "[6, 8, 11]\n"
     ]
    }
   ],
   "source": [
    "a, b = Vector([2, 3, 5]), Vector([4, 5, 6])\n",
    "\n",
    "c = a + b\n",
    "\n",
    "print(a)\n",
    "print(b)\n",
    "print(c)"
   ]
  },
  {
   "cell_type": "markdown",
   "metadata": {},
   "source": [
    "## Exercise - Book Club"
   ]
  },
  {
   "cell_type": "code",
   "execution_count": 173,
   "metadata": {},
   "outputs": [],
   "source": [
    "class Book(object):\n",
    "    title = ''\n",
    "    pages = 0\n",
    "    def __init__(self, title, pages):\n",
    "        self.title = title\n",
    "        self.pages = pages\n",
    "        \n",
    "    def __str__(self):\n",
    "        return self.title + ', ' + str(self.pages) + ' pages'\n",
    "    \n",
    "    def __add__(self, other):\n",
    "        return self.pages + other.pages\n",
    "    def __radd__(self, other):\n",
    "        return self.pages + other\n",
    "    def __lt__(self, other):\n",
    "        if isinstance(other, int):\n",
    "            return self.pages < other\n",
    "        else:\n",
    "            return self.pages < other.pages\n",
    "    def __le__(self, other):\n",
    "        if isinstance(other, int):\n",
    "            return self.pages <= other\n",
    "        else:\n",
    "            return self.pages <= other.pages\n",
    "    def __eq__(self, other):\n",
    "        if isinstance(other, int):\n",
    "            return self.pages == other\n",
    "        else:\n",
    "            return self.pages == other.pages\n",
    "    def __ne__(self, other):\n",
    "        if isinstance(other, int):\n",
    "            return self.pages != other\n",
    "        else:\n",
    "            return self.pages != other.pages\n",
    "    def __gt__(self, other):\n",
    "        if isinstance(other, int):\n",
    "            return self.pages >= other\n",
    "        else:\n",
    "            return self.pages >= other.pages\n",
    "    def __ge__(self, other):\n",
    "        if isinstance(other, int):\n",
    "            return self.pages >= other\n",
    "        else:\n",
    "            return self.pages >= other.pages"
   ]
  },
  {
   "cell_type": "code",
   "execution_count": 174,
   "metadata": {},
   "outputs": [
    {
     "name": "stdout",
     "output_type": "stream",
     "text": [
      "The Great Tales of the Sea, 345 pages\n",
      "The Amazing Expedition, 520 pages\n",
      "865\n",
      "865\n",
      "True\n",
      "False\n",
      "True\n",
      "False\n",
      "False\n",
      "False\n",
      "True\n",
      "True\n",
      "False\n",
      "True\n",
      "False\n",
      "True\n"
     ]
    }
   ],
   "source": [
    "book1 = Book('The Great Tales of the Sea', 345)\n",
    "book2 = Book('The Amazing Expedition', 520)\n",
    "\n",
    "# str method\n",
    "print(book1)\n",
    "print(book2)\n",
    "\n",
    "# reverse sum and sum\n",
    "print(sum([book1, book2]))\n",
    "print(book1 + book2)\n",
    "\n",
    "# less then\n",
    "print(book1 < book2)\n",
    "print(book1 < 100)\n",
    "\n",
    "# less equal\n",
    "print(book1 <= book2)\n",
    "print(book1 <= 100)\n",
    "\n",
    "# equal\n",
    "print(book1 == book2)\n",
    "print(book1 == 100)\n",
    "\n",
    "# not equal\n",
    "print(book1 != book2)\n",
    "print(book1 != 100)\n",
    "\n",
    "# greater than\n",
    "print(book1 > book2)\n",
    "print(book1 > 100)\n",
    "\n",
    "# greater or equal\n",
    "print(book1 >= book2)\n",
    "print(book1 >= 100)"
   ]
  }
 ],
 "metadata": {
  "kernelspec": {
   "display_name": "Python 3",
   "language": "python",
   "name": "python3"
  },
  "language_info": {
   "codemirror_mode": {
    "name": "ipython",
    "version": 3
   },
   "file_extension": ".py",
   "mimetype": "text/x-python",
   "name": "python",
   "nbconvert_exporter": "python",
   "pygments_lexer": "ipython3",
   "version": "3.7.6"
  }
 },
 "nbformat": 4,
 "nbformat_minor": 4
}
