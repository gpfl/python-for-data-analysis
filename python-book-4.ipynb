{
 "cells": [
  {
   "cell_type": "markdown",
   "metadata": {},
   "source": [
    "# CH. 4 - NumPy Basics: Arrays and Vectorized Computation"
   ]
  },
  {
   "cell_type": "code",
   "execution_count": 1,
   "metadata": {},
   "outputs": [],
   "source": [
    "import numpy as np"
   ]
  },
  {
   "cell_type": "markdown",
   "metadata": {},
   "source": [
    "## 4.1 The NumPy ndarray: A Multidimensional Array Object"
   ]
  },
  {
   "cell_type": "code",
   "execution_count": 2,
   "metadata": {},
   "outputs": [
    {
     "name": "stdout",
     "output_type": "stream",
     "text": [
      "one-dimensional:\t (6,)\n",
      "one-multidimensional:\t (1, 6)\n",
      "bi-multidimentional:\t (2, 3)\n"
     ]
    }
   ],
   "source": [
    "data = [5, 0.1, 4, 7.5, 8, 6]\n",
    "\n",
    "arr1 = np.array(data)\n",
    "print('one-dimensional:\\t', arr1.shape)\n",
    "\n",
    "arr3 = np.array([data])\n",
    "print('one-multidimensional:\\t', arr3.shape)\n",
    "\n",
    "data2 = [[5, 3, 1], [3, 4, 6.5]]\n",
    "\n",
    "arr2 = np.array(data2)\n",
    "print('bi-multidimentional:\\t', arr2.shape)\n"
   ]
  },
  {
   "cell_type": "code",
   "execution_count": 18,
   "metadata": {},
   "outputs": [
    {
     "name": "stdout",
     "output_type": "stream",
     "text": [
      "[0. 0. 0. 0. 0. 0. 0. 0. 0. 0.]\n",
      "[[0. 0. 0. 0. 0. 0. 0. 0. 0. 0.]]\n",
      "[[1. 1. 1. 1. 1.]\n",
      " [1. 1. 1. 1. 1.]\n",
      " [1. 1. 1. 1. 1.]\n",
      " [1. 1. 1. 1. 1.]]\n",
      "[[[4.65241596e-310 0.00000000e+000]\n",
      "  [0.00000000e+000 0.00000000e+000]\n",
      "  [0.00000000e+000 0.00000000e+000]]\n",
      "\n",
      " [[0.00000000e+000 0.00000000e+000]\n",
      "  [0.00000000e+000 0.00000000e+000]\n",
      "  [0.00000000e+000 0.00000000e+000]]]\n"
     ]
    }
   ],
   "source": [
    "print(np.zeros(10))\n",
    "\n",
    "print(np.zeros((1, 10)))\n",
    "\n",
    "print(np.ones((4, 5)))\n",
    "\n",
    "print(np.empty((2, 3, 2)))"
   ]
  },
  {
   "cell_type": "markdown",
   "metadata": {},
   "source": [
    "#### It’s not safe to assume that np.empty will return an array of all zeros. In some cases, it may return uninitialized “garbage” values."
   ]
  },
  {
   "cell_type": "code",
   "execution_count": 20,
   "metadata": {},
   "outputs": [
    {
     "name": "stdout",
     "output_type": "stream",
     "text": [
      "[ 1  2  3  4  5  6  7  8  9 10 11 12 13 14 15]\n",
      "(15,)\n"
     ]
    }
   ],
   "source": [
    "range_array = np.arange(1, 16)\n",
    "print(range_array)\n",
    "print(range_array.shape)"
   ]
  },
  {
   "cell_type": "markdown",
   "metadata": {},
   "source": [
    "### Data Types for ndarrays\n",
    "\n",
    "* Since NumPy is focused on numerical computing, the data type, if not specified, will in many cases be float64 (floating point)."
   ]
  },
  {
   "cell_type": "code",
   "execution_count": 22,
   "metadata": {},
   "outputs": [
    {
     "data": {
      "text/plain": [
       "(dtype('float64'), dtype('int32'))"
      ]
     },
     "execution_count": 22,
     "metadata": {},
     "output_type": "execute_result"
    }
   ],
   "source": [
    "arr1 = np.array([1, 2, 3], dtype=np.float64)\n",
    "arr2 = np.array([1, 2, 3], dtype=np.int32)\n",
    "\n",
    "arr1.dtype, arr2.dtype"
   ]
  },
  {
   "cell_type": "code",
   "execution_count": 25,
   "metadata": {},
   "outputs": [
    {
     "name": "stdout",
     "output_type": "stream",
     "text": [
      "[1 2 3]\n",
      "[1 2 3]\n"
     ]
    }
   ],
   "source": [
    "# cast an array from one dtype to another\n",
    "arr3 = arr1.astype(np.int8)\n",
    "print(arr3)\n",
    "\n",
    "# using other array dtype\n",
    "arr4 = arr2.astype(arr3.dtype)\n",
    "print(arr4)"
   ]
  },
  {
   "cell_type": "markdown",
   "metadata": {},
   "source": [
    "### Arithmetic with NumPy Arrays"
   ]
  },
  {
   "cell_type": "code",
   "execution_count": 27,
   "metadata": {},
   "outputs": [
    {
     "data": {
      "text/plain": [
       "array([[1., 2., 3.],\n",
       "       [4., 5., 6.]])"
      ]
     },
     "execution_count": 27,
     "metadata": {},
     "output_type": "execute_result"
    }
   ],
   "source": [
    "arr = np.array([[1., 2., 3.], [4., 5., 6.]])\n",
    "\n",
    "arr"
   ]
  },
  {
   "cell_type": "code",
   "execution_count": 31,
   "metadata": {},
   "outputs": [
    {
     "name": "stdout",
     "output_type": "stream",
     "text": [
      "Multiplication:\n",
      "[[ 1.  4.  9.]\n",
      " [16. 25. 36.]]\n",
      "Subtraction:\n",
      "[[0. 0. 0.]\n",
      " [0. 0. 0.]]\n",
      "Scalar operations:\n",
      "[[1.         0.5        0.33333333]\n",
      " [0.25       0.2        0.16666667]]\n",
      "[[0.5 1.  1.5]\n",
      " [2.  2.5 3. ]]\n",
      "Comparison arr2 > arr:\n",
      "[[False  True False]\n",
      " [ True False  True]]\n"
     ]
    }
   ],
   "source": [
    "print('Multiplication:')\n",
    "print(arr * arr)\n",
    "\n",
    "print('Subtraction:')\n",
    "print(arr - arr)\n",
    "\n",
    "print('Scalar operations:')\n",
    "print(1 / arr)\n",
    "print(arr * 0.5)\n",
    "\n",
    "print('Comparison arr2 > arr:')\n",
    "arr2 = np.array([[0., 4., 1.],[7., 2., 12.]])\n",
    "print(arr2 > arr)"
   ]
  },
  {
   "cell_type": "markdown",
   "metadata": {},
   "source": [
    "### Basic Indexing and Slicing"
   ]
  },
  {
   "cell_type": "code",
   "execution_count": 36,
   "metadata": {},
   "outputs": [
    {
     "name": "stdout",
     "output_type": "stream",
     "text": [
      "5\n",
      "[5 6 7]\n"
     ]
    },
    {
     "data": {
      "text/plain": [
       "array([ 0,  1,  2,  3,  4, 12, 12, 12,  8,  9])"
      ]
     },
     "execution_count": 36,
     "metadata": {},
     "output_type": "execute_result"
    }
   ],
   "source": [
    "arr = np.arange(10)\n",
    "\n",
    "print(arr[5])\n",
    "print(arr[5:8])\n",
    "\n",
    "# broadcasting\n",
    "arr[5:8] = 12\n",
    "arr"
   ]
  },
  {
   "cell_type": "markdown",
   "metadata": {},
   "source": [
    "* An important first distinction from Python’s built-in lists is that array **slices are views on the original array**. This means that the data is not copied, and any modifications to the view will be reflected in the source array."
   ]
  },
  {
   "cell_type": "code",
   "execution_count": 38,
   "metadata": {},
   "outputs": [
    {
     "name": "stdout",
     "output_type": "stream",
     "text": [
      "arr_slice:\t [   12 12345    12]\n",
      "arr:\t\t [    0     1     2     3     4    12 12345    12     8     9]\n"
     ]
    }
   ],
   "source": [
    "arr_slice = arr[5:8]\n",
    "\n",
    "arr_slice[1] = 12345\n",
    "print('arr_slice:\\t', arr_slice)\n",
    "print('arr:\\t\\t', arr)"
   ]
  },
  {
   "cell_type": "markdown",
   "metadata": {},
   "source": [
    "* If you want a copy of a slice of an ndarray instead of a view, you\n",
    "will need to explicitly copy the array—for example,\n",
    "`arr[5:8].copy()`"
   ]
  },
  {
   "cell_type": "code",
   "execution_count": 40,
   "metadata": {},
   "outputs": [
    {
     "name": "stdout",
     "output_type": "stream",
     "text": [
      "[4 5 6]\n",
      "3\n"
     ]
    }
   ],
   "source": [
    "# Multidimensional arrays\n",
    "arr2d = np.array([[1, 2, 3], [4, 5, 6], [7, 8, 9]])\n",
    "\n",
    "print(arr2d[1])\n",
    "print(arr2d[0][2])"
   ]
  },
  {
   "cell_type": "markdown",
   "metadata": {},
   "source": [
    "* In multidimensional arrays, if you omit later indices, the returned object will be a\n",
    "lower dimensional ndarray consisting of all the data along the higher dimensions. So\n",
    "in the 2 × 2 × 3 array arr3d :"
   ]
  },
  {
   "cell_type": "code",
   "execution_count": 41,
   "metadata": {},
   "outputs": [
    {
     "name": "stdout",
     "output_type": "stream",
     "text": [
      "[[[ 1  2  3]\n",
      "  [ 4  5  6]]\n",
      "\n",
      " [[ 7  8  9]\n",
      "  [10 11 12]]]\n"
     ]
    }
   ],
   "source": [
    "arr3d = np.array([[[1, 2, 3], [4, 5, 6]], [[7, 8, 9], [10, 11, 12]]])\n",
    "print(arr3d)"
   ]
  },
  {
   "cell_type": "code",
   "execution_count": 42,
   "metadata": {},
   "outputs": [
    {
     "data": {
      "text/plain": [
       "array([[1, 2, 3],\n",
       "       [4, 5, 6]])"
      ]
     },
     "execution_count": 42,
     "metadata": {},
     "output_type": "execute_result"
    }
   ],
   "source": [
    "arr3d[0]"
   ]
  },
  {
   "cell_type": "markdown",
   "metadata": {},
   "source": [
    "### Indexing with slices\n",
    "\n",
    "As you can see, it has sliced along axis 0, the first axis. A slice, therefore, selects a\n",
    "range of elements along an axis. It can be helpful to read the expression arr2d[:2] as\n",
    "“select the first two rows of arr2d .”"
   ]
  },
  {
   "cell_type": "code",
   "execution_count": 48,
   "metadata": {},
   "outputs": [
    {
     "name": "stdout",
     "output_type": "stream",
     "text": [
      "array:\n",
      "[[1 2 3]\n",
      " [4 5 6]\n",
      " [7 8 9]]\n",
      "slice first two rows:\n",
      "[[1 2 3]\n",
      " [4 5 6]]\n",
      "slicing rows and cols:\n",
      "[[2 3]\n",
      " [5 6]]\n"
     ]
    }
   ],
   "source": [
    "print('array:')\n",
    "print(arr2d)\n",
    "print('slice first two rows:')\n",
    "print(arr2d[:2])\n",
    "print('slicing rows and cols:')\n",
    "print(arr2d[:2, 1:])"
   ]
  },
  {
   "cell_type": "markdown",
   "metadata": {},
   "source": [
    "* When slicing like this, you always obtain array views of the same number of dimensions. By mixing integer indexes and slices, you get lower dimensional slices:"
   ]
  },
  {
   "cell_type": "code",
   "execution_count": 50,
   "metadata": {},
   "outputs": [
    {
     "name": "stdout",
     "output_type": "stream",
     "text": [
      "[[1]\n",
      " [4]\n",
      " [7]]\n",
      "[1 4 7]\n"
     ]
    }
   ],
   "source": [
    "print(arr2d[:, :1])\n",
    "print(arr2d[:, 0])"
   ]
  },
  {
   "cell_type": "markdown",
   "metadata": {},
   "source": [
    "### Boolean Indexing"
   ]
  },
  {
   "cell_type": "code",
   "execution_count": 52,
   "metadata": {},
   "outputs": [
    {
     "name": "stdout",
     "output_type": "stream",
     "text": [
      "[[-0.47064095  1.06622792 -1.77086815  0.24091025]\n",
      " [-0.42099201 -0.80591926  0.99028269 -0.24648701]\n",
      " [ 0.70693319  0.54977135  0.03618785 -1.80517674]\n",
      " [-1.45875019 -0.49793811 -0.36025506  1.53865052]\n",
      " [ 0.25836948  0.31914181  0.84351472 -0.08940476]\n",
      " [ 1.55108899 -0.20507905  0.4463085   0.93254404]\n",
      " [-1.12832416 -0.8924859   0.34300332  1.2649423 ]]\n"
     ]
    }
   ],
   "source": [
    "names = np.array(['Bob', 'Joe', 'Will', 'Bob', 'Will', 'Joe', 'Joe'])\n",
    "\n",
    "data = np.random.randn(7, 4)\n",
    "\n",
    "print(data)"
   ]
  },
  {
   "cell_type": "markdown",
   "metadata": {},
   "source": [
    "* Like arithmetic operations, comparisons (such as == ) with arrays are also vectorized."
   ]
  },
  {
   "cell_type": "code",
   "execution_count": 54,
   "metadata": {},
   "outputs": [
    {
     "data": {
      "text/plain": [
       "array([ True, False, False,  True, False, False, False])"
      ]
     },
     "execution_count": 54,
     "metadata": {},
     "output_type": "execute_result"
    }
   ],
   "source": [
    "names == 'Bob'"
   ]
  },
  {
   "cell_type": "markdown",
   "metadata": {},
   "source": [
    "* This boolean array can be passed when indexing the array:"
   ]
  },
  {
   "cell_type": "code",
   "execution_count": 55,
   "metadata": {},
   "outputs": [
    {
     "data": {
      "text/plain": [
       "array([[-0.47064095,  1.06622792, -1.77086815,  0.24091025],\n",
       "       [-1.45875019, -0.49793811, -0.36025506,  1.53865052]])"
      ]
     },
     "execution_count": 55,
     "metadata": {},
     "output_type": "execute_result"
    }
   ],
   "source": [
    "data[names == 'Bob']"
   ]
  },
  {
   "cell_type": "markdown",
   "metadata": {},
   "source": [
    "* The boolean array must be of the same length as the array axis it’s indexing (though Boolean selection will not fail if the boolean array is not the correct length). You can even mix and match boolean arrays with slices or integers. "
   ]
  },
  {
   "cell_type": "code",
   "execution_count": 56,
   "metadata": {},
   "outputs": [
    {
     "data": {
      "text/plain": [
       "array([[0.        , 1.06622792, 0.        , 0.24091025],\n",
       "       [0.        , 0.        , 0.99028269, 0.        ],\n",
       "       [0.70693319, 0.54977135, 0.03618785, 0.        ],\n",
       "       [0.        , 0.        , 0.        , 1.53865052],\n",
       "       [0.25836948, 0.31914181, 0.84351472, 0.        ],\n",
       "       [1.55108899, 0.        , 0.4463085 , 0.93254404],\n",
       "       [0.        , 0.        , 0.34300332, 1.2649423 ]])"
      ]
     },
     "execution_count": 56,
     "metadata": {},
     "output_type": "execute_result"
    }
   ],
   "source": [
    "# setting negative values to zero\n",
    "data[data < 0] = 0\n",
    "\n",
    "data"
   ]
  },
  {
   "cell_type": "markdown",
   "metadata": {},
   "source": [
    "### Fancy Indexing\n",
    "\n",
    "* Fancy indexing is a term adopted by NumPy to describe indexing using integer arrays.\n",
    "* To select out a subset of the rows in a particular order, you can simply pass a list or ndarray of integers specifying the desired order.\n",
    "* Keep in mind that fancy indexing, unlike slicing, always copies the data into a new array."
   ]
  },
  {
   "cell_type": "code",
   "execution_count": 57,
   "metadata": {},
   "outputs": [
    {
     "data": {
      "text/plain": [
       "array([[0.        , 0.        , 0.99028269, 0.        ],\n",
       "       [0.70693319, 0.54977135, 0.03618785, 0.        ],\n",
       "       [0.        , 0.        , 0.        , 1.53865052]])"
      ]
     },
     "execution_count": 57,
     "metadata": {},
     "output_type": "execute_result"
    }
   ],
   "source": [
    "data[[1,2,3]]"
   ]
  },
  {
   "cell_type": "code",
   "execution_count": 59,
   "metadata": {},
   "outputs": [
    {
     "data": {
      "text/plain": [
       "array([[0.25836948, 0.31914181, 0.84351472, 0.        ],\n",
       "       [1.55108899, 0.        , 0.4463085 , 0.93254404],\n",
       "       [0.        , 0.        , 0.34300332, 1.2649423 ]])"
      ]
     },
     "execution_count": 59,
     "metadata": {},
     "output_type": "execute_result"
    }
   ],
   "source": [
    "data[[-3,-2,-1]]"
   ]
  },
  {
   "cell_type": "markdown",
   "metadata": {},
   "source": [
    "* Passing multiple index arrays does something slightly different; it selects a onedimensional array of elements corresponding to each tuple of indices:"
   ]
  },
  {
   "cell_type": "code",
   "execution_count": 62,
   "metadata": {},
   "outputs": [
    {
     "data": {
      "text/plain": [
       "array([0.        , 0.        , 0.03618785, 1.53865052])"
      ]
     },
     "execution_count": 62,
     "metadata": {},
     "output_type": "execute_result"
    }
   ],
   "source": [
    "# Selecting (0,0), (1,1), (2,2), (3,3)\n",
    "data[[0,1,2,3],[0,1,2,3]]"
   ]
  },
  {
   "cell_type": "markdown",
   "metadata": {},
   "source": [
    "* To select the rectangular region formed by selecting a subset of the matrix’s rows and columns, do:"
   ]
  },
  {
   "cell_type": "code",
   "execution_count": 69,
   "metadata": {},
   "outputs": [
    {
     "data": {
      "text/plain": [
       "array([[0.        , 1.06622792, 0.        ],\n",
       "       [0.        , 0.        , 0.99028269],\n",
       "       [0.70693319, 0.54977135, 0.03618785]])"
      ]
     },
     "execution_count": 69,
     "metadata": {},
     "output_type": "execute_result"
    }
   ],
   "source": [
    "data[[0, 1, 2]][:, [0, 1, 2]]"
   ]
  },
  {
   "cell_type": "markdown",
   "metadata": {},
   "source": [
    "### Transposing Arrays and Swapping Axes"
   ]
  },
  {
   "cell_type": "code",
   "execution_count": 73,
   "metadata": {},
   "outputs": [
    {
     "name": "stdout",
     "output_type": "stream",
     "text": [
      "[[ 0  1  2  3]\n",
      " [ 4  5  6  7]\n",
      " [ 8  9 10 11]\n",
      " [12 13 14 15]]\n",
      "[[ 0  4  8 12]\n",
      " [ 1  5  9 13]\n",
      " [ 2  6 10 14]\n",
      " [ 3  7 11 15]]\n"
     ]
    }
   ],
   "source": [
    "arr = np.arange(16).reshape((4,4))\n",
    "\n",
    "print(arr)\n",
    "print(arr.T)"
   ]
  },
  {
   "cell_type": "code",
   "execution_count": 74,
   "metadata": {},
   "outputs": [
    {
     "data": {
      "text/plain": [
       "array([[224, 248, 272, 296],\n",
       "       [248, 276, 304, 332],\n",
       "       [272, 304, 336, 368],\n",
       "       [296, 332, 368, 404]])"
      ]
     },
     "execution_count": 74,
     "metadata": {},
     "output_type": "execute_result"
    }
   ],
   "source": [
    "# dot product\n",
    "np.dot(arr.T, arr)"
   ]
  },
  {
   "cell_type": "code",
   "execution_count": 75,
   "metadata": {},
   "outputs": [
    {
     "data": {
      "text/plain": [
       "array([[[ 0,  1,  2,  3],\n",
       "        [ 4,  5,  6,  7]],\n",
       "\n",
       "       [[ 8,  9, 10, 11],\n",
       "        [12, 13, 14, 15]]])"
      ]
     },
     "execution_count": 75,
     "metadata": {},
     "output_type": "execute_result"
    }
   ],
   "source": [
    "arr2 = arr.reshape((2, 2, 4)).copy()\n",
    "\n",
    "arr2"
   ]
  },
  {
   "cell_type": "code",
   "execution_count": 76,
   "metadata": {},
   "outputs": [
    {
     "data": {
      "text/plain": [
       "array([[[ 0,  8],\n",
       "        [ 4, 12]],\n",
       "\n",
       "       [[ 1,  9],\n",
       "        [ 5, 13]],\n",
       "\n",
       "       [[ 2, 10],\n",
       "        [ 6, 14]],\n",
       "\n",
       "       [[ 3, 11],\n",
       "        [ 7, 15]]])"
      ]
     },
     "execution_count": 76,
     "metadata": {},
     "output_type": "execute_result"
    }
   ],
   "source": [
    "arr2.T"
   ]
  },
  {
   "cell_type": "code",
   "execution_count": 80,
   "metadata": {},
   "outputs": [
    {
     "data": {
      "text/plain": [
       "array([[[ 0,  8],\n",
       "        [ 4, 12]],\n",
       "\n",
       "       [[ 1,  9],\n",
       "        [ 5, 13]],\n",
       "\n",
       "       [[ 2, 10],\n",
       "        [ 6, 14]],\n",
       "\n",
       "       [[ 3, 11],\n",
       "        [ 7, 15]]])"
      ]
     },
     "execution_count": 80,
     "metadata": {},
     "output_type": "execute_result"
    }
   ],
   "source": [
    "arr2.transpose((2, 1, 0))"
   ]
  },
  {
   "cell_type": "code",
   "execution_count": 85,
   "metadata": {},
   "outputs": [
    {
     "data": {
      "text/plain": [
       "array([[[ 0,  8],\n",
       "        [ 4, 12]],\n",
       "\n",
       "       [[ 1,  9],\n",
       "        [ 5, 13]],\n",
       "\n",
       "       [[ 2, 10],\n",
       "        [ 6, 14]],\n",
       "\n",
       "       [[ 3, 11],\n",
       "        [ 7, 15]]])"
      ]
     },
     "execution_count": 85,
     "metadata": {},
     "output_type": "execute_result"
    }
   ],
   "source": [
    "arr2.swapaxes(0,2)"
   ]
  },
  {
   "cell_type": "markdown",
   "metadata": {},
   "source": [
    "<br><br>\n",
    "\n",
    "## 4.2 Universal Functions: Fast Element-Wise Array Functions\n",
    "\n",
    "* A universal function, or ufunc, is a function that performs element-wise operations on data in ndarrays."
   ]
  },
  {
   "cell_type": "code",
   "execution_count": 88,
   "metadata": {},
   "outputs": [
    {
     "data": {
      "text/plain": [
       "array([0.        , 1.        , 1.41421356, 1.73205081, 2.        ,\n",
       "       2.23606798, 2.44948974, 2.64575131, 2.82842712, 3.        ])"
      ]
     },
     "execution_count": 88,
     "metadata": {},
     "output_type": "execute_result"
    }
   ],
   "source": [
    "arr = np.arange(10)\n",
    "\n",
    "np.sqrt(arr)"
   ]
  },
  {
   "cell_type": "code",
   "execution_count": 89,
   "metadata": {},
   "outputs": [
    {
     "data": {
      "text/plain": [
       "array([1.00000000e+00, 2.71828183e+00, 7.38905610e+00, 2.00855369e+01,\n",
       "       5.45981500e+01, 1.48413159e+02, 4.03428793e+02, 1.09663316e+03,\n",
       "       2.98095799e+03, 8.10308393e+03])"
      ]
     },
     "execution_count": 89,
     "metadata": {},
     "output_type": "execute_result"
    }
   ],
   "source": [
    "np.exp(arr)"
   ]
  },
  {
   "cell_type": "code",
   "execution_count": 93,
   "metadata": {},
   "outputs": [
    {
     "name": "stdout",
     "output_type": "stream",
     "text": [
      "[ 1.81345124  0.3130106  -1.05245975 -1.85907955  0.00480942 -1.43275894\n",
      "  0.7732      0.85932761]\n",
      "[-0.69796931 -0.65091527  0.66215488  1.11691375 -0.37511088 -1.5091369\n",
      " -1.96113652 -1.14803756]\n",
      "[ 1.81345124  0.3130106   0.66215488  1.11691375  0.00480942 -1.43275894\n",
      "  0.7732      0.85932761]\n"
     ]
    }
   ],
   "source": [
    "x, y = np.random.randn(8), np.random.randn(8)\n",
    "\n",
    "print(x)\n",
    "print(y)\n",
    "\n",
    "print(np.maximum(x,y))"
   ]
  },
  {
   "cell_type": "markdown",
   "metadata": {},
   "source": [
    "* While not common, a ufunc can return multiple arrays. modf is one example, a vectorized version of the built-in Python divmod ; it returns the fractional and integral parts of a floating-point array:"
   ]
  },
  {
   "cell_type": "code",
   "execution_count": 94,
   "metadata": {},
   "outputs": [
    {
     "data": {
      "text/plain": [
       "array([ 7.21991036, -6.77476958,  4.38738661,  2.42517337,  8.00633318,\n",
       "        3.22318345,  5.37154348])"
      ]
     },
     "execution_count": 94,
     "metadata": {},
     "output_type": "execute_result"
    }
   ],
   "source": [
    "arr = np.random.randn(7) * 5\n",
    "arr"
   ]
  },
  {
   "cell_type": "code",
   "execution_count": 95,
   "metadata": {},
   "outputs": [
    {
     "name": "stdout",
     "output_type": "stream",
     "text": [
      "[ 0.21991036 -0.77476958  0.38738661  0.42517337  0.00633318  0.22318345\n",
      "  0.37154348] [ 7. -6.  4.  2.  8.  3.  5.]\n"
     ]
    }
   ],
   "source": [
    "remainder, whole_part = np.modf(arr)\n",
    "\n",
    "print(remainder, whole_part)"
   ]
  },
  {
   "cell_type": "markdown",
   "metadata": {},
   "source": [
    "<br><br> \n",
    "## 4.3 Array-Oriented Programming with Arrays\n",
    "\n"
   ]
  },
  {
   "cell_type": "markdown",
   "metadata": {},
   "source": [
    "* The `np.meshgrid` function takes two 1D arrays and produces two 2D matrices corresponding to all pairs of (x, y) in the two arrays:"
   ]
  },
  {
   "cell_type": "code",
   "execution_count": 106,
   "metadata": {},
   "outputs": [
    {
     "data": {
      "text/plain": [
       "array([-2, -1,  0,  1])"
      ]
     },
     "execution_count": 106,
     "metadata": {},
     "output_type": "execute_result"
    }
   ],
   "source": [
    "points = np.arange(-2, 2, 1)\n",
    "points"
   ]
  },
  {
   "cell_type": "code",
   "execution_count": 107,
   "metadata": {},
   "outputs": [
    {
     "data": {
      "text/plain": [
       "(array([[-2, -1,  0,  1],\n",
       "        [-2, -1,  0,  1],\n",
       "        [-2, -1,  0,  1],\n",
       "        [-2, -1,  0,  1]]),\n",
       " array([[-2, -2, -2, -2],\n",
       "        [-1, -1, -1, -1],\n",
       "        [ 0,  0,  0,  0],\n",
       "        [ 1,  1,  1,  1]]))"
      ]
     },
     "execution_count": 107,
     "metadata": {},
     "output_type": "execute_result"
    }
   ],
   "source": [
    "xs, ys = np.meshgrid(points, points)\n",
    "xs, ys"
   ]
  },
  {
   "cell_type": "code",
   "execution_count": 108,
   "metadata": {},
   "outputs": [
    {
     "data": {
      "text/plain": [
       "array([[2.82842712, 2.23606798, 2.        , 2.23606798],\n",
       "       [2.23606798, 1.41421356, 1.        , 1.41421356],\n",
       "       [2.        , 1.        , 0.        , 1.        ],\n",
       "       [2.23606798, 1.41421356, 1.        , 1.41421356]])"
      ]
     },
     "execution_count": 108,
     "metadata": {},
     "output_type": "execute_result"
    }
   ],
   "source": [
    "z = np.sqrt(xs ** 2 + ys ** 2)\n",
    "z"
   ]
  },
  {
   "cell_type": "markdown",
   "metadata": {},
   "source": [
    "### Expressing Conditional Logic as Array Operations\n",
    "\n",
    "* The numpy.where function is a vectorized version of the ternary expression x if condition else y."
   ]
  },
  {
   "cell_type": "code",
   "execution_count": 109,
   "metadata": {},
   "outputs": [],
   "source": [
    "xarr = np.array([1.1, 1.2, 1.3, 1.4, 1.5])\n",
    "yarr = np.array([2.1, 2.2, 2.3, 2.4, 2.5])\n",
    "cond = np.array([True, False, True, True, False])"
   ]
  },
  {
   "cell_type": "code",
   "execution_count": 110,
   "metadata": {},
   "outputs": [
    {
     "data": {
      "text/plain": [
       "array([1.1, 2.2, 1.3, 1.4, 2.5])"
      ]
     },
     "execution_count": 110,
     "metadata": {},
     "output_type": "execute_result"
    }
   ],
   "source": [
    "np.where(cond, xarr, yarr)"
   ]
  },
  {
   "cell_type": "code",
   "execution_count": 111,
   "metadata": {},
   "outputs": [
    {
     "data": {
      "text/plain": [
       "array(['smaller', 'smaller', 'bigger', 'bigger', 'bigger'], dtype='<U7')"
      ]
     },
     "execution_count": 111,
     "metadata": {},
     "output_type": "execute_result"
    }
   ],
   "source": [
    "np.where(xarr > 1.2, 'bigger', 'smaller')"
   ]
  },
  {
   "cell_type": "markdown",
   "metadata": {},
   "source": [
    "### Mathematical and Statistical Methods "
   ]
  },
  {
   "cell_type": "code",
   "execution_count": 112,
   "metadata": {},
   "outputs": [
    {
     "data": {
      "text/plain": [
       "array([[-0.55263108, -1.37520359,  2.1939318 ,  0.42607935],\n",
       "       [ 0.55869317, -0.5821427 ,  1.76792027, -1.31126761],\n",
       "       [ 0.29901281,  1.92499547,  1.17464311,  0.53733533],\n",
       "       [-0.12236405,  0.58975389, -0.64799063,  1.1476711 ],\n",
       "       [-0.19047183, -0.66950058,  0.28174035,  0.72978082]])"
      ]
     },
     "execution_count": 112,
     "metadata": {},
     "output_type": "execute_result"
    }
   ],
   "source": [
    "arr = np.random.randn(5,4)\n",
    "arr"
   ]
  },
  {
   "cell_type": "code",
   "execution_count": 113,
   "metadata": {},
   "outputs": [
    {
     "name": "stdout",
     "output_type": "stream",
     "text": [
      "0.30899927018821854\n",
      "6.179985403764371\n",
      "0.985841569244041\n"
     ]
    }
   ],
   "source": [
    "print(arr.mean())\n",
    "print(arr.sum())\n",
    "print(arr.std())"
   ]
  },
  {
   "cell_type": "markdown",
   "metadata": {},
   "source": [
    "* Functions like mean and sum take an optional axis argument that computes the statistic over the given axis, resulting in an array with one fewer dimension"
   ]
  },
  {
   "cell_type": "code",
   "execution_count": 115,
   "metadata": {},
   "outputs": [
    {
     "name": "stdout",
     "output_type": "stream",
     "text": [
      "[-0.00155219 -0.0224195   0.95404898  0.3059198 ]\n",
      "[0.17304412 0.10830078 0.98399668 0.24176758 0.03788719]\n"
     ]
    }
   ],
   "source": [
    "print(arr.mean(axis=0)) # across rows\n",
    "print(arr.mean(axis=1)) # across columns"
   ]
  },
  {
   "cell_type": "code",
   "execution_count": 116,
   "metadata": {},
   "outputs": [
    {
     "data": {
      "text/plain": [
       "array([-0.55263108, -1.92783467,  0.26609713,  0.69217648,  1.25086966,\n",
       "        0.66872695,  2.43664722,  1.12537961,  1.42439242,  3.3493879 ,\n",
       "        4.52403101,  5.06136634,  4.93900229,  5.52875618,  4.88076555,\n",
       "        6.02843665,  5.83796482,  5.16846423,  5.45020458,  6.1799854 ])"
      ]
     },
     "execution_count": 116,
     "metadata": {},
     "output_type": "execute_result"
    }
   ],
   "source": [
    "np.cumsum(arr)"
   ]
  },
  {
   "cell_type": "code",
   "execution_count": 120,
   "metadata": {},
   "outputs": [
    {
     "name": "stdout",
     "output_type": "stream",
     "text": [
      "[[0 1 2]\n",
      " [3 4 5]\n",
      " [6 7 8]]\n",
      "[[ 0  1  3]\n",
      " [ 3  7 12]\n",
      " [ 6 13 21]]\n",
      "[[  0   0   0]\n",
      " [  3  12  60]\n",
      " [  6  42 336]]\n"
     ]
    }
   ],
   "source": [
    "arr2 = np.array([[0, 1, 2],[3, 4, 5], [6, 7, 8]])\n",
    "\n",
    "print(arr2)\n",
    "print(arr2.cumsum(1))\n",
    "print(arr2.cumprod(1))"
   ]
  },
  {
   "cell_type": "code",
   "execution_count": 122,
   "metadata": {},
   "outputs": [
    {
     "data": {
      "text/plain": [
       "array([[False, False,  True,  True],\n",
       "       [ True, False,  True, False],\n",
       "       [ True,  True,  True,  True],\n",
       "       [False,  True, False,  True],\n",
       "       [False, False,  True,  True]])"
      ]
     },
     "execution_count": 122,
     "metadata": {},
     "output_type": "execute_result"
    }
   ],
   "source": [
    "bools = arr > 0\n",
    "bools"
   ]
  },
  {
   "cell_type": "code",
   "execution_count": 124,
   "metadata": {},
   "outputs": [
    {
     "name": "stdout",
     "output_type": "stream",
     "text": [
      "12\n",
      "True\n",
      "False\n"
     ]
    }
   ],
   "source": [
    "# Methods for Boolean Arrays\n",
    "print(bools.sum())\n",
    "print(bools.any())\n",
    "print(bools.all())"
   ]
  },
  {
   "cell_type": "markdown",
   "metadata": {},
   "source": [
    "### Sorting\n",
    "\n",
    "* You can sort each one-dimensional section of values in a multidimensional array inplace along an axis by passing the axis number to sort"
   ]
  },
  {
   "cell_type": "code",
   "execution_count": 135,
   "metadata": {},
   "outputs": [
    {
     "name": "stdout",
     "output_type": "stream",
     "text": [
      "[[ 0.29583741 -0.65930676 -0.1091327 ]\n",
      " [-0.42209875 -0.55667848  0.4071756 ]]\n",
      "\n",
      "[[-0.65930676 -0.1091327   0.29583741]\n",
      " [-0.55667848 -0.42209875  0.4071756 ]]\n"
     ]
    }
   ],
   "source": [
    "arr3 = np.random.randn(2, 3)\n",
    "print(arr3)\n",
    "\n",
    "arr3.sort(1)\n",
    "print()\n",
    "print(arr3)"
   ]
  },
  {
   "cell_type": "code",
   "execution_count": 137,
   "metadata": {},
   "outputs": [
    {
     "data": {
      "text/plain": [
       "array([False,  True])"
      ]
     },
     "execution_count": 137,
     "metadata": {},
     "output_type": "execute_result"
    }
   ],
   "source": [
    "# unique\n",
    "np.unique(bools)"
   ]
  },
  {
   "cell_type": "markdown",
   "metadata": {},
   "source": [
    "* `np.in1d` tests membership of the values in one array in another, returning a boolean array:"
   ]
  },
  {
   "cell_type": "code",
   "execution_count": 138,
   "metadata": {},
   "outputs": [
    {
     "data": {
      "text/plain": [
       "array([ True, False, False,  True,  True, False,  True])"
      ]
     },
     "execution_count": 138,
     "metadata": {},
     "output_type": "execute_result"
    }
   ],
   "source": [
    "values = np.array([6, 0, 0, 3, 2, 5, 6])\n",
    "np.in1d(values, [2, 3, 6])"
   ]
  },
  {
   "cell_type": "markdown",
   "metadata": {},
   "source": [
    "## 4.5 Linear Algebra\n",
    "\n",
    "* Unlike some languages like MATLAB, multiplying two two-dimensional arrays with `*` is an element-wise product instead of a matrix dot product. Thus, there is a function `dot` , both an array method and a function in the numpy namespace, for matrix multiplication"
   ]
  },
  {
   "cell_type": "code",
   "execution_count": 148,
   "metadata": {},
   "outputs": [
    {
     "name": "stdout",
     "output_type": "stream",
     "text": [
      "(2, 3) (3, 2) \n",
      "\n",
      "[[1. 2. 3.]\n",
      " [4. 5. 6.]] \n",
      "\n",
      " [[ 6. 23.]\n",
      " [-1.  7.]\n",
      " [ 8.  9.]] \n",
      "\n",
      "[[ 28.  64.]\n",
      " [ 67. 181.]] \n",
      "\n",
      "[[ 28.  64.]\n",
      " [ 67. 181.]] \n",
      "\n",
      "[[ 28.  64.]\n",
      " [ 67. 181.]]\n"
     ]
    }
   ],
   "source": [
    "x = np.array([[1., 2., 3.], [4., 5., 6.]])\n",
    "y = np.array([[6., 23.], [-1, 7], [8, 9]])\n",
    "\n",
    "print(x.shape, y.shape, '\\n')\n",
    "print(x, '\\n\\n', y, '\\n')\n",
    "\n",
    "# Matrix Multiplications, 3 ways\n",
    "print(np.dot(x,y), '\\n')\n",
    "print(x.dot(y), '\\n')\n",
    "print(x @ y)"
   ]
  },
  {
   "cell_type": "code",
   "execution_count": 144,
   "metadata": {},
   "outputs": [
    {
     "data": {
      "text/plain": [
       "((3,), array([1., 1., 1.]))"
      ]
     },
     "execution_count": 144,
     "metadata": {},
     "output_type": "execute_result"
    }
   ],
   "source": [
    "ones = np.ones(3)\n",
    "ones.shape, ones"
   ]
  },
  {
   "cell_type": "code",
   "execution_count": 150,
   "metadata": {},
   "outputs": [
    {
     "name": "stdout",
     "output_type": "stream",
     "text": [
      "[[ 4.59719986  1.73932501  1.42816458 -0.42289249 -6.9663489 ]\n",
      " [ 1.73932501  3.49310139 -1.58039776  2.62251937 -5.80106238]\n",
      " [ 1.42816458 -1.58039776  4.54984327  0.93692616 -2.20074472]\n",
      " [-0.42289249  2.62251937  0.93692616  7.16353549 -6.01026682]\n",
      " [-6.9663489  -5.80106238 -2.20074472 -6.01026682 18.38658986]] \n",
      "\n",
      "[[ 6.37421854 -5.9881843  -4.28122259  4.32614672  1.42748699]\n",
      " [-5.9881843   8.75929759  5.71079138 -4.57258189 -0.31637147]\n",
      " [-4.28122259  5.71079138  4.01941165 -3.18942963 -0.38177048]\n",
      " [ 4.32614672 -4.57258189 -3.18942963  3.21138053  0.86442066]\n",
      " [ 1.42748699 -0.31637147 -0.38177048  0.86442066  0.7322892 ]] \n",
      "\n",
      "[[-8.6549412  -5.90619564 -2.91736172 -4.94464218 19.7348955 ]\n",
      " [ 0.         -4.83440291  2.53056153 -6.49364201  7.19179486]\n",
      " [ 0.          0.         -4.00559007 -5.35758793  4.37263111]\n",
      " [ 0.          0.          0.         -0.2306585   0.79205504]\n",
      " [ 0.          0.          0.          0.          0.52947647]]\n"
     ]
    }
   ],
   "source": [
    "# Inverse and QR Factorization with numpy.linalg\n",
    "\n",
    "from numpy.linalg import inv, qr\n",
    "\n",
    "x = np.random.randn(5,5)\n",
    "\n",
    "mat = x.T.dot(x)\n",
    "\n",
    "print(mat, '\\n')\n",
    "print(inv(mat), '\\n')\n",
    "\n",
    "q, r = qr(mat)\n",
    "\n",
    "print(r)"
   ]
  },
  {
   "cell_type": "markdown",
   "metadata": {},
   "source": [
    "<br><br>\n",
    "\n",
    "## 4.6 Pseudorandom Number Generation"
   ]
  },
  {
   "cell_type": "code",
   "execution_count": 151,
   "metadata": {},
   "outputs": [
    {
     "data": {
      "text/plain": [
       "array([[-0.19568617,  0.84073315, -1.11493824,  1.34003324],\n",
       "       [-1.57702999,  1.10594664,  1.01097645,  0.48617851],\n",
       "       [ 0.40031461, -0.22766814,  0.18656149, -0.91660315],\n",
       "       [ 1.00412069, -1.36453057, -0.14590493, -0.01306383]])"
      ]
     },
     "execution_count": 151,
     "metadata": {},
     "output_type": "execute_result"
    }
   ],
   "source": [
    "# Normal distribution\n",
    "samples = np.random.normal(size=(4,4))\n",
    "\n",
    "samples"
   ]
  },
  {
   "cell_type": "code",
   "execution_count": 152,
   "metadata": {},
   "outputs": [],
   "source": [
    "# Set Seed\n",
    "np.random.seed(100)"
   ]
  },
  {
   "cell_type": "markdown",
   "metadata": {},
   "source": [
    "* The data generation functions in numpy.random use a global random seed. To avoid global state, you can use `numpy.random.RandomState` to create a random number generator isolated from others"
   ]
  },
  {
   "cell_type": "code",
   "execution_count": 154,
   "metadata": {},
   "outputs": [
    {
     "name": "stdout",
     "output_type": "stream",
     "text": [
      "[ 0.47143516 -1.19097569  1.43270697 -0.3126519  -0.72058873  0.88716294\n",
      "  0.85958841 -0.6365235   0.01569637 -2.24268495] \n",
      "\n",
      "[ 1.15003572  0.99194602  0.95332413 -2.02125482 -0.33407737  0.00211836\n",
      "  0.40545341  0.28909194  1.32115819 -1.54690555] \n",
      "\n"
     ]
    }
   ],
   "source": [
    "rng = np.random.RandomState(1234)\n",
    "\n",
    "print(rng.randn(10), '\\n')\n",
    "print(rng.normal(size=(10,)), '\\n')"
   ]
  },
  {
   "cell_type": "markdown",
   "metadata": {},
   "source": [
    "## 4.7 Example: Random Walks"
   ]
  },
  {
   "cell_type": "code",
   "execution_count": 176,
   "metadata": {},
   "outputs": [
    {
     "name": "stdout",
     "output_type": "stream",
     "text": [
      "draws:\t [1 1 1 0 0 1 1 1 1 1 0 1 0 1 0 1 0 0 0 1] ... \n",
      "\n",
      "steps:\t [ 1  1  1 -1 -1  1  1  1  1  1 -1  1 -1  1 -1  1 -1 -1 -1  1] ... \n",
      "\n",
      "walk:\t [1 2 3 2 1 2 3 4 5 6 5 6 5 6 5 6 5 4 3 4] ... \n",
      "\n"
     ]
    }
   ],
   "source": [
    "nsteps = 1000\n",
    "\n",
    "draws = np.random.randint(0, 2, size=nsteps)\n",
    "print('draws:\\t', draws[:20], '... \\n')\n",
    "\n",
    "steps = np.where(draws > 0, 1, -1)\n",
    "print('steps:\\t', steps[:20], '... \\n')\n",
    "\n",
    "walk = steps.cumsum()\n",
    "print('walk:\\t', walk[:20], '... \\n')"
   ]
  },
  {
   "cell_type": "code",
   "execution_count": 177,
   "metadata": {},
   "outputs": [
    {
     "data": {
      "text/plain": [
       "[<matplotlib.lines.Line2D at 0x7f9a1d555d90>]"
      ]
     },
     "execution_count": 177,
     "metadata": {},
     "output_type": "execute_result"
    },
    {
     "data": {
      "image/png": "[encoded data removed]",
      "text/plain": [
       "<Figure size 432x288 with 1 Axes>"
      ]
     },
     "metadata": {
      "needs_background": "light"
     },
     "output_type": "display_data"
    }
   ],
   "source": [
    "import matplotlib.pyplot as plt\n",
    "\n",
    "plt.plot(walk[:150])"
   ]
  }
 ],
 "metadata": {
  "kernelspec": {
   "display_name": "Python 3",
   "language": "python",
   "name": "python3"
  },
  "language_info": {
   "codemirror_mode": {
    "name": "ipython",
    "version": 3
   },
   "file_extension": ".py",
   "mimetype": "text/x-python",
   "name": "python",
   "nbconvert_exporter": "python",
   "pygments_lexer": "ipython3",
   "version": "3.8.3"
  }
 },
 "nbformat": 4,
 "nbformat_minor": 4
}
